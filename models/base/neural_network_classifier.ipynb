{
 "cells": [
  {
   "cell_type": "markdown",
   "metadata": {},
   "source": [
    "# Neural network Classifier x Toxic Content Detection\n",
    "Il presente Notebook mostra l'addestramento ed il testing di un Classificatore basato su Neural network per il task di Toxic Content Detection.\n",
    "\n",
    "I dati sono stati processati come segue:\n",
    "1. Pulizia del testo (si veda, 'dataset_preprocessing.py')\n",
    "2. Lemmatizzazione con NLTK\n",
    "3. Vettorizzazione con TF-IDF"
   ]
  },
  {
   "cell_type": "code",
   "execution_count": 1,
   "metadata": {},
   "outputs": [
    {
     "name": "stderr",
     "output_type": "stream",
     "text": [
      "/var/folders/ss/s59pk8px01vb8p_b48z9wxz40000gn/T/ipykernel_19149/3259976506.py:1: DeprecationWarning: \n",
      "Pyarrow will become a required dependency of pandas in the next major release of pandas (pandas 3.0),\n",
      "(to allow more performant data types, such as the Arrow string type, and better interoperability with other libraries)\n",
      "but was not found to be installed on your system.\n",
      "If this would cause problems for you,\n",
      "please provide us feedback at https://github.com/pandas-dev/pandas/issues/54466\n",
      "        \n",
      "  import pandas as pd\n"
     ]
    }
   ],
   "source": [
    "import pandas as pd\n",
    "import pickle\n",
    "import nltk\n",
    "import re\n",
    "import seaborn as sns\n",
    "import numpy as np\n",
    "from nltk.tokenize import word_tokenize\n",
    "from nltk.corpus import wordnet\n",
    "from nltk.stem import WordNetLemmatizer\n",
    "from sklearn.feature_extraction.text import TfidfVectorizer\n",
    "import tensorflow as tf\n",
    "from tensorflow.keras.models import Sequential\n",
    "from tensorflow.keras.models import Model\n",
    "from tensorflow.keras.layers import Input, Conv1D, MaxPooling1D, Flatten, Dense,Reshape\n",
    "from tensorflow.keras.optimizers.legacy import Adam as Adam_legacy\n",
    "from datetime import datetime\n",
    "import matplotlib.pyplot as plt\n",
    "from sklearn.metrics import accuracy_score, precision_score, recall_score, confusion_matrix, ConfusionMatrixDisplay"
   ]
  },
  {
   "cell_type": "markdown",
   "metadata": {},
   "source": [
    "# Neural Network, Dataset \"non-Lemmatizzato\""
   ]
  },
  {
   "cell_type": "code",
   "execution_count": 2,
   "metadata": {},
   "outputs": [],
   "source": [
    "training_set = pd.read_csv(\"./../../datasets/training_set.csv\")\n",
    "test_data = pd.read_csv(\"./../../datasets/test_set.csv\")\n",
    "test_data.dropna(inplace=True)\n",
    "test_set = test_data[test_data['toxic']!=-1]\n",
    "# Osservazione: il Training Set è stato già ripulito"
   ]
  },
  {
   "cell_type": "code",
   "execution_count": 3,
   "metadata": {},
   "outputs": [
    {
     "name": "stdout",
     "output_type": "stream",
     "text": [
      "y_train.shape: (15282,)\n",
      "X_train.shape: (15282, 39767)\n"
     ]
    }
   ],
   "source": [
    "# Vettorizzazione con TF-IDF\n",
    "vectorizer = TfidfVectorizer()\n",
    "vectorizer_lem = TfidfVectorizer()\n",
    "\n",
    "y_train = training_set['toxic']\n",
    "X_train = vectorizer.fit_transform(training_set['comment_text'])\n",
    "\n",
    "print(\"y_train.shape: \" + str(y_train.shape))\n",
    "print(\"X_train.shape: \" + str(X_train.shape))\n"
   ]
  },
  {
   "cell_type": "markdown",
   "metadata": {},
   "source": [
    "## Addestramento del Modello"
   ]
  },
  {
   "cell_type": "code",
   "execution_count": 4,
   "metadata": {},
   "outputs": [
    {
     "name": "stdout",
     "output_type": "stream",
     "text": [
      "GPU disponibile, TensorFlow sta utilizzando la GPU.\n"
     ]
    },
    {
     "name": "stderr",
     "output_type": "stream",
     "text": [
      "2024-02-10 19:29:01.735640: I metal_plugin/src/device/metal_device.cc:1154] Metal device set to: Apple M1\n",
      "2024-02-10 19:29:01.735668: I metal_plugin/src/device/metal_device.cc:296] systemMemory: 8.00 GB\n",
      "2024-02-10 19:29:01.735673: I metal_plugin/src/device/metal_device.cc:313] maxCacheSize: 2.67 GB\n",
      "2024-02-10 19:29:01.735724: I tensorflow/core/common_runtime/pluggable_device/pluggable_device_factory.cc:306] Could not identify NUMA node of platform GPU ID 0, defaulting to 0. Your kernel may not have been built with NUMA support.\n",
      "2024-02-10 19:29:01.735743: I tensorflow/core/common_runtime/pluggable_device/pluggable_device_factory.cc:272] Created TensorFlow device (/device:GPU:0 with 0 MB memory) -> physical PluggableDevice (device: 0, name: METAL, pci bus id: <undefined>)\n"
     ]
    }
   ],
   "source": [
    "#Verifica presenza della GPU\n",
    "import tensorflow as tf\n",
    "\n",
    "# Verifica il dispositivo attualmente utilizzato da TensorFlow\n",
    "device_name = tf.test.gpu_device_name()\n",
    "\n",
    "if device_name == '/device:GPU:0':\n",
    "    print('GPU disponibile, TensorFlow sta utilizzando la GPU.')\n",
    "else:\n",
    "    print('GPU non disponibile, TensorFlow sta utilizzando la CPU.')\n"
   ]
  },
  {
   "cell_type": "code",
   "execution_count": 5,
   "metadata": {},
   "outputs": [
    {
     "data": {
      "text/plain": [
       "(15282, 39767)"
      ]
     },
     "execution_count": 5,
     "metadata": {},
     "output_type": "execute_result"
    }
   ],
   "source": [
    "X_train = X_train.toarray()\n",
    "X_train.shape"
   ]
  },
  {
   "cell_type": "code",
   "execution_count": 6,
   "metadata": {},
   "outputs": [],
   "source": [
    "model_filename = 'nn_classifier.pkl'\n",
    "model = None"
   ]
  },
  {
   "cell_type": "code",
   "execution_count": 7,
   "metadata": {},
   "outputs": [
    {
     "name": "stderr",
     "output_type": "stream",
     "text": [
      "2024-02-10 19:29:06.578871: I tensorflow/core/common_runtime/pluggable_device/pluggable_device_factory.cc:306] Could not identify NUMA node of platform GPU ID 0, defaulting to 0. Your kernel may not have been built with NUMA support.\n",
      "2024-02-10 19:29:06.578897: I tensorflow/core/common_runtime/pluggable_device/pluggable_device_factory.cc:272] Created TensorFlow device (/job:localhost/replica:0/task:0/device:GPU:0 with 0 MB memory) -> physical PluggableDevice (device: 0, name: METAL, pci bus id: <undefined>)\n"
     ]
    },
    {
     "name": "stdout",
     "output_type": "stream",
     "text": [
      "Model: \"model\"\n",
      "_________________________________________________________________\n",
      " Layer (type)                Output Shape              Param #   \n",
      "=================================================================\n",
      " review (InputLayer)         [(None, 39767)]           0         \n",
      "                                                                 \n",
      " reshape (Reshape)           (None, 39767, 1)          0         \n",
      "                                                                 \n",
      " conv1d (Conv1D)             (None, 39763, 32)         192       \n",
      "                                                                 \n",
      " max_pooling1d (MaxPooling1  (None, 19881, 32)         0         \n",
      " D)                                                              \n",
      "                                                                 \n",
      " conv1d_1 (Conv1D)           (None, 19879, 32)         3104      \n",
      "                                                                 \n",
      " max_pooling1d_1 (MaxPoolin  (None, 9939, 32)          0         \n",
      " g1D)                                                            \n",
      "                                                                 \n",
      " conv1d_2 (Conv1D)           (None, 9935, 64)          10304     \n",
      "                                                                 \n",
      " flatten (Flatten)           (None, 635840)            0         \n",
      "                                                                 \n",
      " main_output (Dense)         (None, 1)                 635841    \n",
      "                                                                 \n",
      "=================================================================\n",
      "Total params: 649441 (2.48 MB)\n",
      "Trainable params: 649441 (2.48 MB)\n",
      "Non-trainable params: 0 (0.00 Byte)\n",
      "_________________________________________________________________\n",
      "None\n"
     ]
    }
   ],
   "source": [
    "#CNN model\n",
    "review = Input(shape=(X_train.shape[1],), dtype='float', name='review')\n",
    "# Aggiunta di una dimensione per rappresentare il canale (l'input è bidimensionale e ci aspetta invece la dimensione associata al canale)\n",
    "review_reshaped = Reshape((X_train.shape[1], 1))(review)\n",
    "    \n",
    "# Layer convoluzionali\n",
    "conv_1 = Conv1D(filters=32, kernel_size=5, activation='relu')(review_reshaped)\n",
    "max_pool_1 = MaxPooling1D(pool_size=2)(conv_1)\n",
    "conv_2 = Conv1D(filters=32, kernel_size=3, activation='relu')(max_pool_1)\n",
    "max_pool_2 = MaxPooling1D(pool_size=2)(conv_2)\n",
    "conv_3 = Conv1D(filters=64, kernel_size=5, activation='relu')(max_pool_2)\n",
    "\n",
    "# Appiattimento e strato fully-connected\n",
    "flatten = Flatten()(conv_3)\n",
    "main_output = Dense(1, activation='sigmoid', name='main_output')(flatten)\n",
    "\n",
    "# Costruzione del modello\n",
    "model = Model(inputs=[review], outputs=[main_output])\n",
    "    \n",
    "# Compilazione del modello\n",
    "optimizer = Adam_legacy(learning_rate=1e-2)\n",
    "model.compile(optimizer=optimizer, loss='binary_crossentropy', metrics=['accuracy'])\n",
    "print(model.summary())"
   ]
  },
  {
   "cell_type": "code",
   "execution_count": 44,
   "metadata": {},
   "outputs": [],
   "source": [
    "# OLD CNN Model\n",
    "'''\n",
    "model = tf.keras.models.Sequential([\n",
    "tf.keras.layers.Reshape((39767, 1), input_shape=(39767,)),  \n",
    "tf.keras.layers.Conv1D(filters=25, kernel_size=11, strides=4,\n",
    "activation='relu',input_shape=(39767, 1)),\n",
    "tf.keras.layers.MaxPool1D(pool_size=3, strides=2,padding='same'),\n",
    "tf.keras.layers.Conv1D(filters=65, kernel_size=5, padding='same',\n",
    "activation='relu'),\n",
    "tf.keras.layers.MaxPool1D(pool_size=3, strides=2,padding='same'),\n",
    "tf.keras.layers.Conv1D(filters=70, kernel_size=3, padding='same',\n",
    "activation='relu'),\n",
    "tf.keras.layers.Conv1D(filters=60, kernel_size=1, padding='same',\n",
    "activation='relu'),\n",
    "tf.keras.layers.Dense(155, activation='relu'),\n",
    "tf.keras.layers.Dropout(0.5),\n",
    "tf.keras.layers.Dense(40, activation='relu'),\n",
    "tf.keras.layers.Dropout(0.5),\n",
    "tf.keras.layers.Dense(1,activation='sigmoid')\n",
    "])\n",
    "'''"
   ]
  },
  {
   "cell_type": "code",
   "execution_count": 11,
   "metadata": {},
   "outputs": [
    {
     "name": "stdout",
     "output_type": "stream",
     "text": [
      "Epoch 1/5\n",
      "450/450 [==============================] - 93s 199ms/step - loss: 0.6299 - accuracy: 0.8221\n",
      "Epoch 2/5\n",
      "450/450 [==============================] - 87s 194ms/step - loss: 0.2436 - accuracy: 0.9090\n",
      "Epoch 3/5\n",
      "450/450 [==============================] - 87s 194ms/step - loss: 0.1156 - accuracy: 0.9589\n",
      "Epoch 4/5\n",
      "450/450 [==============================] - 87s 194ms/step - loss: 0.0479 - accuracy: 0.9852\n",
      "Epoch 5/5\n",
      "450/450 [==============================] - 88s 195ms/step - loss: 0.0344 - accuracy: 0.9887\n"
     ]
    },
    {
     "data": {
      "text/plain": [
       "<keras.src.callbacks.History at 0x29fdbd090>"
      ]
     },
     "execution_count": 11,
     "metadata": {},
     "output_type": "execute_result"
    }
   ],
   "source": [
    "model.fit(X_train, y_train,epochs=5, batch_size=34)"
   ]
  },
  {
   "cell_type": "code",
   "execution_count": 12,
   "metadata": {},
   "outputs": [
    {
     "name": "stdout",
     "output_type": "stream",
     "text": [
      "Model: \"model_1\"\n",
      "_________________________________________________________________\n",
      " Layer (type)                Output Shape              Param #   \n",
      "=================================================================\n",
      " review (InputLayer)         [(None, 39767)]           0         \n",
      "                                                                 \n",
      " reshape_1 (Reshape)         (None, 39767, 1)          0         \n",
      "                                                                 \n",
      " conv1d_2 (Conv1D)           (None, 39763, 32)         192       \n",
      "                                                                 \n",
      " max_pooling1d_2 (MaxPoolin  (None, 19881, 32)         0         \n",
      " g1D)                                                            \n",
      "                                                                 \n",
      " conv1d_3 (Conv1D)           (None, 19879, 32)         3104      \n",
      "                                                                 \n",
      " max_pooling1d_3 (MaxPoolin  (None, 9939, 32)          0         \n",
      " g1D)                                                            \n",
      "                                                                 \n",
      " conv1d_4 (Conv1D)           (None, 9935, 64)          10304     \n",
      "                                                                 \n",
      " flatten_1 (Flatten)         (None, 635840)            0         \n",
      "                                                                 \n",
      " main_output (Dense)         (None, 1)                 635841    \n",
      "                                                                 \n",
      "=================================================================\n",
      "Total params: 649441 (2.48 MB)\n",
      "Trainable params: 649441 (2.48 MB)\n",
      "Non-trainable params: 0 (0.00 Byte)\n",
      "_________________________________________________________________\n"
     ]
    }
   ],
   "source": [
    "model.summary()"
   ]
  },
  {
   "cell_type": "code",
   "execution_count": 35,
   "metadata": {},
   "outputs": [
    {
     "data": {
      "text/plain": [
       "[<tf.Variable 'conv1d_2/kernel:0' shape=(5, 1, 32) dtype=float32, numpy=\n",
       " array([[[ 2.01237106e+00,  1.86899662e+00,  5.24043679e-01,\n",
       "           1.43309820e+00,  2.06527129e-01,  1.54839778e+00,\n",
       "          -1.70115694e-01,  2.31218696e+00, -3.27331215e-01,\n",
       "           1.35403359e+00,  3.54670882e-02,  9.33951616e-01,\n",
       "          -1.14711918e-01,  1.10249507e+00, -2.10701451e-01,\n",
       "           1.15359354e+00,  8.10476899e-01, -1.59173548e-01,\n",
       "           3.66490595e-02, -6.15192838e-02,  1.23988226e-01,\n",
       "          -3.54887098e-01,  6.04607575e-02,  5.74934483e-02,\n",
       "          -1.03489041e+00, -2.78329372e-01, -5.60478598e-04,\n",
       "           5.84471412e-02, -3.67589265e-01,  1.06097901e+00,\n",
       "           1.57313347e+00, -2.24515617e-01]],\n",
       " \n",
       "        [[ 2.41568491e-01, -1.95778057e-01, -4.72457223e-02,\n",
       "           4.13412958e-01, -1.65004551e-01,  1.29614413e+00,\n",
       "           1.32364392e+00, -2.74627626e-01, -1.60185480e+00,\n",
       "          -9.53935742e-01,  2.95206048e-02, -2.69089907e-01,\n",
       "          -9.96192321e-02,  2.12121069e-01, -8.90235379e-02,\n",
       "           2.30613089e+00,  2.48286307e-01, -6.76750317e-02,\n",
       "           8.02721176e-03,  5.15177213e-02, -4.88623008e-02,\n",
       "          -1.12196922e+00, -4.88194339e-02, -6.56186715e-02,\n",
       "           2.31739655e-01, -2.83097088e-01,  5.53522930e-02,\n",
       "           1.96226016e-02,  1.55911207e+00,  1.84996700e+00,\n",
       "           6.33190334e-01, -6.17463171e-01]],\n",
       " \n",
       "        [[ 1.60820758e+00,  4.75910902e-01,  1.00405431e+00,\n",
       "           1.20926011e+00,  1.37478948e+00, -1.05875206e+00,\n",
       "           1.81919768e-01, -3.17074150e-01,  4.99017805e-01,\n",
       "           4.42178398e-01, -1.20982327e-01,  9.04910266e-01,\n",
       "           2.78971754e-02, -1.16900541e-01,  3.51014324e-02,\n",
       "          -3.58776674e-02,  3.25854242e-01,  7.66726375e-01,\n",
       "          -1.15399361e-01,  2.68098526e-02,  1.20749962e+00,\n",
       "          -1.91737175e+00, -1.24622108e-02,  3.52112353e-01,\n",
       "          -5.54046214e-01, -3.18909705e-01, -1.03096344e-01,\n",
       "          -1.42691642e-01,  1.13243687e+00, -2.79864430e-01,\n",
       "          -7.86099792e-01,  7.13064849e-01]],\n",
       " \n",
       "        [[ 5.16429901e-01, -2.47063622e-01,  9.67847466e-01,\n",
       "           2.89039481e-02,  1.33900821e+00, -1.16421759e+00,\n",
       "           1.32555461e+00, -3.45259666e-01,  2.00198308e-01,\n",
       "           1.42442048e-01, -9.84209850e-02,  9.83081400e-01,\n",
       "           3.03346682e-02,  6.44333363e-01, -1.82966053e-01,\n",
       "           1.55154264e+00, -5.84726036e-01,  1.01146901e+00,\n",
       "           1.09650027e-02,  1.96545124e-02, -2.78764218e-01,\n",
       "          -2.02114606e+00, -1.31395441e-02, -5.53912163e-01,\n",
       "          -1.76812291e-01, -3.23376745e-01, -6.01887777e-02,\n",
       "           6.85413480e-02,  1.48266554e-01,  5.94589174e-01,\n",
       "          -7.20132947e-01, -6.80080414e-01]],\n",
       " \n",
       "        [[ 1.31659210e+00, -9.36221480e-02, -3.22959721e-02,\n",
       "           5.87065876e-01, -7.70724714e-01, -1.16636884e+00,\n",
       "          -2.25671992e-01,  2.56691784e-01,  2.02191189e-01,\n",
       "          -2.38788709e-01, -5.23196906e-02,  4.81486380e-01,\n",
       "           4.09744605e-02,  3.50250006e-01,  5.89378551e-02,\n",
       "          -2.11397618e-01,  2.27683380e-01, -7.23180652e-01,\n",
       "           1.64352432e-02,  3.54707167e-02, -3.05102199e-01,\n",
       "           9.37466204e-01, -2.00837508e-01, -3.85168105e-01,\n",
       "           1.36777496e+00, -2.85868675e-01, -1.66464686e-01,\n",
       "          -4.88996655e-02,  1.26541591e+00,  1.36273479e+00,\n",
       "          -1.05471626e-01, -6.78442538e-01]]], dtype=float32)>,\n",
       " <tf.Variable 'conv1d_2/bias:0' shape=(32,) dtype=float32, numpy=\n",
       " array([ 0.17243585,  0.01957159,  0.0483987 , -0.17231093, -0.19225165,\n",
       "         0.17599079, -0.00854155, -0.02105135, -0.08797532,  0.04100088,\n",
       "        -0.0540815 , -0.11532879, -0.06269098, -0.1602129 , -0.07178104,\n",
       "        -0.04613267, -0.10741419, -0.0098362 , -0.05190624, -0.06401368,\n",
       "        -0.17098503,  0.17155528, -0.0699464 ,  0.0322171 , -0.01196218,\n",
       "        -0.02629387, -0.0886119 , -0.06880289, -0.09831992, -0.09054366,\n",
       "        -0.02689187, -0.10247744], dtype=float32)>,\n",
       " <tf.Variable 'conv1d_3/kernel:0' shape=(3, 32, 32) dtype=float32, numpy=\n",
       " array([[[ 2.1096275 ,  0.11718138,  0.12811694, ..., -0.00936548,\n",
       "          -0.02177584, -0.07655473],\n",
       "         [ 1.355309  ,  0.09480655, -0.11611959, ...,  0.02644037,\n",
       "          -0.19836934, -0.12871549],\n",
       "         [ 0.00703236, -0.14256379, -0.11490273, ..., -0.11802553,\n",
       "          -0.31587517,  0.06288278],\n",
       "         ...,\n",
       "         [ 0.31156185, -0.15775321, -0.13995773, ..., -0.15814786,\n",
       "          -0.03716336, -0.20449331],\n",
       "         [ 0.6989804 , -0.11046481, -0.18282242, ...,  0.17382403,\n",
       "          -0.20892872, -0.08897775],\n",
       "         [ 0.04237247, -0.059642  , -0.11822341, ...,  0.06858075,\n",
       "           0.06444482, -0.05490411]],\n",
       " \n",
       "        [[-0.02680733, -0.15527582,  0.12335069, ...,  0.09340639,\n",
       "           0.00877257,  0.05023333],\n",
       "         [ 0.07883327,  0.07126383, -0.03789293, ..., -0.14435157,\n",
       "           0.02276707, -0.17176212],\n",
       "         [-0.15549506, -0.01996171,  0.03462104, ..., -0.20366357,\n",
       "          -0.36180493, -0.20100965],\n",
       "         ...,\n",
       "         [-0.12257855, -0.1684677 ,  0.07702383, ..., -0.12726465,\n",
       "           0.03651555, -0.15995687],\n",
       "         [ 0.20242849, -0.06657562, -0.07936453, ..., -0.14718814,\n",
       "          -0.11285622,  0.02437505],\n",
       "         [-0.01056154,  0.04547405,  0.1431572 , ..., -0.12193926,\n",
       "          -0.22516185,  0.00993185]],\n",
       " \n",
       "        [[ 0.9826519 , -0.16599508, -0.15563212, ..., -0.05738218,\n",
       "          -0.23765494,  0.06743346],\n",
       "         [ 0.01810525, -0.00282392, -0.09553053, ..., -0.1087039 ,\n",
       "          -0.13671269, -0.17543139],\n",
       "         [-0.2108558 ,  0.10949004, -0.04968245, ..., -0.12979685,\n",
       "          -0.39708412,  0.1393234 ],\n",
       "         ...,\n",
       "         [-0.1549868 , -0.15809926, -0.17850924, ...,  0.00517818,\n",
       "          -0.07219097, -0.13662237],\n",
       "         [ 1.4209943 , -0.0649587 , -0.11248069, ..., -0.22463346,\n",
       "           0.07366893, -0.08329912],\n",
       "         [ 0.04673553, -0.16265185, -0.0796335 , ..., -0.09042822,\n",
       "           0.01040238, -0.05094461]]], dtype=float32)>,\n",
       " <tf.Variable 'conv1d_3/bias:0' shape=(32,) dtype=float32, numpy=\n",
       " array([-0.13410059, -0.05817242, -0.05875871, -0.09731632, -0.06058203,\n",
       "         0.41274732, -0.05961187, -0.05506245, -0.01528051, -0.04566436,\n",
       "        -0.06353419, -0.06053537, -0.07038962, -0.04586889, -0.0220986 ,\n",
       "        -0.18236512, -0.04922491, -0.09174331, -0.06019057, -0.07554077,\n",
       "        -0.04276759, -0.06191146, -0.18919577, -0.06910697,  0.1521528 ,\n",
       "        -0.03655854, -0.33349788, -0.06540341, -0.05992942, -0.05989466,\n",
       "        -0.09740954, -0.06427809], dtype=float32)>,\n",
       " <tf.Variable 'conv1d_4/kernel:0' shape=(5, 32, 64) dtype=float32, numpy=\n",
       " array([[[ 4.48576454e-03, -6.15856089e-02,  1.88757703e-02, ...,\n",
       "          -2.55071342e-01, -8.42807353e-01, -1.95633024e-02],\n",
       "         [-4.73528504e-02,  9.33473781e-02, -2.52834689e-02, ...,\n",
       "           4.48341370e-02, -1.56928133e-02,  9.09691956e-03],\n",
       "         [ 1.05414346e-01,  8.05056617e-02,  8.80989730e-02, ...,\n",
       "           1.06522277e-01, -2.89308820e-02, -6.24575354e-02],\n",
       "         ...,\n",
       "         [-5.15314378e-02, -4.40563187e-02, -1.04472116e-01, ...,\n",
       "          -8.66256431e-02, -9.45795625e-02,  3.81565280e-02],\n",
       "         [-9.32661518e-02, -1.52664632e-01, -1.55280635e-01, ...,\n",
       "          -8.62209424e-02, -3.85539755e-02, -1.72734242e-02],\n",
       "         [-2.73390673e-02,  9.55895800e-03, -1.87762305e-02, ...,\n",
       "          -1.49840131e-01, -4.26748469e-02,  5.35899121e-03]],\n",
       " \n",
       "        [[ 4.40910421e-02, -9.29482579e-02, -1.37026936e-01, ...,\n",
       "          -1.51891500e-01, -3.80436704e-02, -1.35423154e-01],\n",
       "         [-6.02856725e-02, -9.08086821e-02, -1.01169690e-01, ...,\n",
       "           5.78717105e-02, -1.04999319e-01,  6.17203005e-02],\n",
       "         [-6.50794581e-02, -8.62879157e-02, -9.95375440e-02, ...,\n",
       "           6.67810366e-02,  9.21008438e-02, -1.16441652e-01],\n",
       "         ...,\n",
       "         [-7.10954890e-02, -1.91802103e-02, -7.77173489e-02, ...,\n",
       "          -6.58356100e-02, -4.35610935e-02,  2.01221611e-02],\n",
       "         [-4.67883609e-02,  2.65946947e-02,  1.86050627e-02, ...,\n",
       "           3.75823565e-02,  7.14279264e-02, -8.13921764e-02],\n",
       "         [-1.00540504e-01, -8.63598436e-02,  6.04737774e-02, ...,\n",
       "           5.86133040e-02,  1.64656527e-02, -1.78110655e-02]],\n",
       " \n",
       "        [[-1.57193303e-01, -1.19530454e-01,  8.82878713e-03, ...,\n",
       "          -1.19877279e-01, -1.60573944e-01, -1.70713544e-01],\n",
       "         [ 8.15673918e-02, -5.85445240e-02, -2.85635460e-02, ...,\n",
       "          -2.57555470e-02, -7.75741413e-02, -6.87301829e-02],\n",
       "         [-4.22326215e-02, -3.93073112e-02,  5.47364205e-02, ...,\n",
       "          -1.88896582e-02,  1.82944406e-02,  7.75747970e-02],\n",
       "         ...,\n",
       "         [-3.36623229e-02,  3.37097123e-02,  3.35820876e-02, ...,\n",
       "          -1.22711428e-01, -7.32294321e-02,  8.00818875e-02],\n",
       "         [-5.08028232e-02,  5.99049556e-04, -6.08585263e-03, ...,\n",
       "           4.10479829e-02, -1.54923514e-01,  3.02880295e-02],\n",
       "         [-1.10180765e-01,  3.94218303e-02, -1.39216989e-01, ...,\n",
       "           1.83433909e-02,  3.81056145e-02, -3.00478358e-02]],\n",
       " \n",
       "        [[-2.79747695e-02, -5.05776219e-02, -2.52369680e-02, ...,\n",
       "          -6.57451674e-02, -3.13389719e-01,  9.71259400e-02],\n",
       "         [ 2.87358649e-02, -6.32536113e-02, -7.47658610e-02, ...,\n",
       "          -8.61562565e-02, -3.60763557e-02,  5.80607802e-02],\n",
       "         [ 5.39209694e-02,  1.08175389e-01, -3.08065377e-02, ...,\n",
       "           4.38680947e-02,  4.73048761e-02,  1.36505470e-01],\n",
       "         ...,\n",
       "         [-4.82885167e-02,  6.00341074e-02,  5.62321618e-02, ...,\n",
       "          -1.23099284e-02, -1.16054878e-01, -4.49228883e-02],\n",
       "         [ 6.45111967e-03, -9.39014629e-02, -5.46820536e-02, ...,\n",
       "          -6.88689351e-02, -1.63532495e-01,  3.38023230e-02],\n",
       "         [ 3.09325885e-02, -8.52282196e-02, -4.79274392e-02, ...,\n",
       "          -9.06647462e-03, -3.09424363e-02, -4.75958968e-03]],\n",
       " \n",
       "        [[-3.29144932e-02, -9.73353907e-02, -4.62909840e-04, ...,\n",
       "          -1.14808716e-01, -4.10285890e-01, -1.43453581e-02],\n",
       "         [ 2.30403766e-02, -9.05672610e-02,  9.95311365e-02, ...,\n",
       "           4.13516946e-02,  9.57762301e-02,  1.84478518e-02],\n",
       "         [ 3.42871547e-02, -8.51669759e-02, -7.08648488e-02, ...,\n",
       "          -4.62343544e-02, -5.77550270e-02, -1.01812661e-01],\n",
       "         ...,\n",
       "         [-8.72619152e-02, -4.78000678e-02,  7.15760216e-02, ...,\n",
       "           4.50554937e-02,  8.97336099e-03,  2.15906855e-02],\n",
       "         [-5.96323470e-03, -1.26724184e-01, -1.78140812e-02, ...,\n",
       "          -1.50178522e-01, -8.59142020e-02,  1.89788919e-02],\n",
       "         [-8.29136185e-03,  5.69155021e-03,  3.16499807e-02, ...,\n",
       "          -1.41942859e-01,  1.13999434e-02,  3.52457166e-02]]],\n",
       "       dtype=float32)>,\n",
       " <tf.Variable 'conv1d_4/bias:0' shape=(64,) dtype=float32, numpy=\n",
       " array([-0.05602297, -0.05387974, -0.05652363, -0.3375337 , -0.0839178 ,\n",
       "        -0.1299263 , -0.05315919, -0.22017105, -0.052536  , -0.05415801,\n",
       "        -0.18832561, -0.11376543, -0.2205084 , -0.3756443 , -0.05698582,\n",
       "        -0.05579471, -0.20970392, -0.06783505, -0.05339131, -0.05425919,\n",
       "        -0.06712934, -0.05159086, -0.19343962, -0.07437329, -0.05462011,\n",
       "        -0.05512216, -0.00517946, -0.06720915, -0.0655228 , -0.05455967,\n",
       "        -0.21322268, -0.1896239 , -0.05319123, -0.05598309, -0.128749  ,\n",
       "        -0.05370668, -0.19183691, -0.07049984, -0.08141655, -0.06780744,\n",
       "        -0.04937031, -0.05561152, -0.07687152, -0.05418764, -0.0542667 ,\n",
       "        -0.05535195, -0.05685482, -0.07524332, -0.20497653, -0.06557024,\n",
       "        -0.0599658 , -0.18587574, -0.05290765, -0.05355108, -0.05128036,\n",
       "        -0.06019676, -0.05432646, -0.6710709 , -0.07279093, -0.05444568,\n",
       "        -0.3013675 , -0.05353444, -0.37379026, -0.08183166], dtype=float32)>,\n",
       " <tf.Variable 'main_output/kernel:0' shape=(635840, 1) dtype=float32, numpy=\n",
       " array([[ 0.00835049],\n",
       "        [-0.00184471],\n",
       "        [ 0.01213729],\n",
       "        ...,\n",
       "        [ 0.00960129],\n",
       "        [ 0.00046003],\n",
       "        [-0.0021471 ]], dtype=float32)>,\n",
       " <tf.Variable 'main_output/bias:0' shape=(1,) dtype=float32, numpy=array([-0.69933045], dtype=float32)>]"
      ]
     },
     "execution_count": 35,
     "metadata": {},
     "output_type": "execute_result"
    }
   ],
   "source": [
    "model.variables"
   ]
  },
  {
   "cell_type": "code",
   "execution_count": 13,
   "metadata": {},
   "outputs": [
    {
     "name": "stdout",
     "output_type": "stream",
     "text": [
      "True\n"
     ]
    }
   ],
   "source": [
    "print(model!=None)"
   ]
  },
  {
   "cell_type": "code",
   "execution_count": 15,
   "metadata": {},
   "outputs": [],
   "source": [
    "with open(model_filename, 'wb') as f:\n",
    "    pickle.dump(model, f)"
   ]
  },
  {
   "cell_type": "code",
   "execution_count": 8,
   "metadata": {},
   "outputs": [],
   "source": [
    "with open(model_filename, 'rb') as f:\n",
    "    model = pickle.load(f)"
   ]
  },
  {
   "cell_type": "markdown",
   "metadata": {},
   "source": [
    "# Testing del Sistema, Dataset \"Non Lemmatizzato\""
   ]
  },
  {
   "cell_type": "code",
   "execution_count": 9,
   "metadata": {},
   "outputs": [
    {
     "name": "stdout",
     "output_type": "stream",
     "text": [
      "(63842, 39767)\n"
     ]
    }
   ],
   "source": [
    "test_data = pd.read_csv(\"./../../datasets/test_set.csv\")\n",
    "test_data.dropna(inplace=True)\n",
    "test_set = test_data[test_data['toxic'] != -1]\n",
    "X_test = vectorizer.transform(test_set['comment_text'])\n",
    "print(X_test.shape)\n",
    "\n"
   ]
  },
  {
   "cell_type": "code",
   "execution_count": 10,
   "metadata": {},
   "outputs": [
    {
     "name": "stdout",
     "output_type": "stream",
     "text": [
      "(63842, 39767)\n"
     ]
    }
   ],
   "source": [
    "print(str(X_test.shape))"
   ]
  },
  {
   "cell_type": "code",
   "execution_count": 11,
   "metadata": {},
   "outputs": [],
   "source": [
    "X_test = X_test.toarray()"
   ]
  },
  {
   "cell_type": "code",
   "execution_count": 12,
   "metadata": {},
   "outputs": [],
   "source": [
    "X_test1 = X_test[20000:40000]"
   ]
  },
  {
   "cell_type": "code",
   "execution_count": 13,
   "metadata": {},
   "outputs": [],
   "source": [
    "X_test2 = X_test[:20000]"
   ]
  },
  {
   "cell_type": "code",
   "execution_count": 14,
   "metadata": {},
   "outputs": [],
   "source": [
    "X_test3 = X_test[40000:]"
   ]
  },
  {
   "cell_type": "code",
   "execution_count": 15,
   "metadata": {},
   "outputs": [
    {
     "name": "stdout",
     "output_type": "stream",
     "text": [
      "X_test contiene elementi diversi da 0\n"
     ]
    }
   ],
   "source": [
    "if np.any(X_test):\n",
    "    print(\"X_test contiene elementi diversi da 0\")\n",
    "else:\n",
    "    print(\"X_test contiene solo zeri\")"
   ]
  },
  {
   "cell_type": "code",
   "execution_count": 16,
   "metadata": {},
   "outputs": [
    {
     "name": "stdout",
     "output_type": "stream",
     "text": [
      "y_test.shape: (63842,)\n"
     ]
    }
   ],
   "source": [
    "y_test = test_set['toxic']\n",
    "print(\"y_test.shape: \" + str(y_test.shape))"
   ]
  },
  {
   "cell_type": "code",
   "execution_count": 25,
   "metadata": {},
   "outputs": [],
   "source": [
    "y_test_sampled2 = y_test[20000:40000]"
   ]
  },
  {
   "cell_type": "code",
   "execution_count": 26,
   "metadata": {},
   "outputs": [
    {
     "name": "stdout",
     "output_type": "stream",
     "text": [
      "y_test.shape: (20000,)\n"
     ]
    }
   ],
   "source": [
    "print(\"y_test.shape: \" + str(y_test_sampled1.shape))"
   ]
  },
  {
   "cell_type": "code",
   "execution_count": 36,
   "metadata": {},
   "outputs": [
    {
     "ename": "",
     "evalue": "",
     "output_type": "error",
     "traceback": [
      "\u001b[1;31mSi è verificato un arresto anomalo del Kernel durante l'esecuzione del codice nella cella attiva o in una cella precedente. \n",
      "\u001b[1;31mEsaminare il codice nelle celle per identificare una possibile causa dell'errore. \n",
      "\u001b[1;31mPer altre informazioni, fare clic<a href='https://aka.ms/vscodeJupyterKernelCrash'>qui</a>. \n",
      "\u001b[1;31mPer ulteriori dettagli, visualizzare Jupyter <a href='command:jupyter.viewOutput'>log</a>."
     ]
    }
   ],
   "source": [
    " # Ora puoi fare le predizioni\n",
    "y_pred = model.predict(X_test) # Le predizioni saranno di dimensioni (63842, 1)\n"
   ]
  },
  {
   "cell_type": "code",
   "execution_count": 28,
   "metadata": {},
   "outputs": [
    {
     "name": "stdout",
     "output_type": "stream",
     "text": [
      "[0.3319607]\n",
      "[0.3319607]\n",
      "[0.3319607]\n",
      "[0.3319607]\n",
      "[0.3319607]\n",
      "[0.3319607]\n",
      "[0.3319607]\n",
      "[0.3319607]\n",
      "[0.3319607]\n",
      "[0.3319607]\n",
      "[0.3319607]\n",
      "[0.3319607]\n",
      "[0.3319607]\n",
      "[0.3319607]\n",
      "[0.3319607]\n",
      "[0.3319607]\n",
      "[0.3319607]\n",
      "[0.3319607]\n",
      "[0.3319607]\n",
      "[0.3319607]\n",
      "[0.3319607]\n",
      "[0.3319607]\n",
      "[0.3319607]\n",
      "[0.3319607]\n",
      "[0.3319607]\n",
      "[0.3319607]\n",
      "[0.3319607]\n",
      "[0.3319607]\n",
      "[0.3319607]\n",
      "[0.3319607]\n",
      "[0.3319607]\n",
      "[0.3319607]\n",
      "[0.3319607]\n",
      "[0.3319607]\n",
      "[0.3319607]\n",
      "[0.3319607]\n",
      "[0.3319607]\n",
      "[0.3319607]\n",
      "[0.3319607]\n",
      "[0.3319607]\n"
     ]
    }
   ],
   "source": [
    "tot = 500  # Imposta il numero di elementi da stampare prima di saltare\n",
    "\n",
    "for i in range(0, 20000, tot):\n",
    "    print(y_pred[i])"
   ]
  },
  {
   "cell_type": "code",
   "execution_count": 32,
   "metadata": {},
   "outputs": [
    {
     "name": "stdout",
     "output_type": "stream",
     "text": [
      "[[0.3319607]\n",
      " [0.3319607]\n",
      " [0.3319607]\n",
      " ...\n",
      " [0.3319607]\n",
      " [0.3319607]\n",
      " [0.3319607]]\n"
     ]
    }
   ],
   "source": [
    "\n",
    "print(y_pred)"
   ]
  },
  {
   "cell_type": "code",
   "execution_count": 34,
   "metadata": {},
   "outputs": [
    {
     "name": "stdout",
     "output_type": "stream",
     "text": [
      "Accuracy: 0.9045\n",
      "Precision: 0.0\n",
      "Recall: 0.0\n"
     ]
    },
    {
     "name": "stderr",
     "output_type": "stream",
     "text": [
      "/Users/alessandropesare/anaconda3/envs/DL_GPU_Full/lib/python3.11/site-packages/sklearn/metrics/_classification.py:1497: UndefinedMetricWarning: Precision is ill-defined and being set to 0.0 due to no predicted samples. Use `zero_division` parameter to control this behavior.\n",
      "  _warn_prf(average, modifier, f\"{metric.capitalize()} is\", len(result))\n"
     ]
    }
   ],
   "source": [
    "y_pred_binary = np.where(y_pred > 0.5, 1, 0)\n",
    "\n",
    "#Metriche: Accuracy,Precision,Recall\n",
    "print(\"Accuracy: \" + str(accuracy_score(y_test_sampled2, y_pred_binary)))\n",
    "print(\"Precision: \" + str(precision_score(y_test_sampled2, y_pred_binary)))\n",
    "print(\"Recall: \" + str(recall_score(y_test_sampled2, y_pred_binary)))"
   ]
  },
  {
   "cell_type": "code",
   "execution_count": 34,
   "metadata": {},
   "outputs": [
    {
     "data": {
      "image/png": "[encoded data removed]",
      "text/plain": [
       "<Figure size 600x500 with 2 Axes>"
      ]
     },
     "metadata": {},
     "output_type": "display_data"
    }
   ],
   "source": [
    "conf_matrix = confusion_matrix(y_test_sampled, y_pred_binary)\n",
    "\n",
    "# Definisci le etichette delle classi\n",
    "classes = ['Classe Negativa', 'Classe Positiva']\n",
    "\n",
    "# Plotta la matrice di confusione\n",
    "plt.figure(figsize=(6, 5))\n",
    "sns.heatmap(conf_matrix, annot=True, fmt=\"d\", cmap=\"Blues\", xticklabels=classes, yticklabels=classes)\n",
    "plt.xlabel('Predicted')\n",
    "plt.ylabel('True')\n",
    "plt.title('Matrice di Confusione')\n",
    "plt.show()"
   ]
  },
  {
   "cell_type": "markdown",
   "metadata": {},
   "source": [
    "# Neural Network, Dataset \"Lemmatizzato\""
   ]
  },
  {
   "cell_type": "code",
   "execution_count": null,
   "metadata": {},
   "outputs": [],
   "source": [
    "training_set_lem = pd.read_csv(\"./../../datasets/training_set_lemmatized.csv\")\n",
    "test_data_lem = pd.read_csv(\"./../../datasets/test_set_lemmatized.csv\")\n",
    "test_set_lem = test_data[test_data['toxic']!=-1]\n",
    "test_data_lem.dropna(inplace=True)"
   ]
  },
  {
   "cell_type": "code",
   "execution_count": null,
   "metadata": {},
   "outputs": [],
   "source": [
    "# Vettorizzazione con TF-IDF\n",
    "vectorizer = TfidfVectorizer()\n",
    "vectorizer_lem = TfidfVectorizer()\n",
    "\n",
    "y_train = training_set['toxic']\n",
    "X_train_lem = vectorizer_lem.fit_transform(training_set_lem['comment_text'])\n",
    "X_test_lem = vectorizer_lem.transform(test_set_lem['comment_text'])\n",
    "\n",
    "print(\"y_train.shape: \" + str(y_train.shape))\n",
    "print(\"X_train_lem.shape: \" + str(X_train_lem.shape))\n",
    "print(\"X_test_lem.shape: \" + str(X_test_lem.shape))\n"
   ]
  },
  {
   "cell_type": "markdown",
   "metadata": {},
   "source": [
    "## Addestramento del Modello"
   ]
  },
  {
   "cell_type": "code",
   "execution_count": null,
   "metadata": {},
   "outputs": [],
   "source": [
    "#Verifica presenza della GPU\n",
    "import tensorflow as tf\n",
    "\n",
    "# Verifica il dispositivo attualmente utilizzato da TensorFlow\n",
    "device_name = tf.test.gpu_device_name()\n",
    "\n",
    "if device_name == '/device:GPU:0':\n",
    "    print('GPU disponibile, TensorFlow sta utilizzando la GPU.')\n",
    "else:\n",
    "    print('GPU non disponibile, TensorFlow sta utilizzando la CPU.')"
   ]
  },
  {
   "cell_type": "code",
   "execution_count": null,
   "metadata": {},
   "outputs": [],
   "source": [
    "X_train_lem = X_train_lem.toarray()"
   ]
  },
  {
   "cell_type": "code",
   "execution_count": null,
   "metadata": {},
   "outputs": [],
   "source": [
    "# Building the CNN Model\n",
    "\n",
    "model = tf.keras.models.Sequential([\n",
    "tf.keras.layers.Reshape((34238, 1), input_shape=(34238,)),  \n",
    "tf.keras.layers.Conv1D(filters=96, kernel_size=11, strides=4,\n",
    "activation='relu',input_shape=(39767, 1)),\n",
    "tf.keras.layers.Dropout(0.5),\n",
    "tf.keras.layers.Conv1D(filters=120, kernel_size=5, padding='same',\n",
    "activation='relu'),\n",
    "tf.keras.layers.Conv1D(filters=240, kernel_size=3, padding='same',\n",
    "activation='relu'),\n",
    "tf.keras.layers.Dropout(0.5),\n",
    "tf.keras.layers.Conv1D(filters=300, kernel_size=3, padding='same',\n",
    "activation='relu'),\n",
    "tf.keras.layers.Conv1D(filters=150, kernel_size=1, padding='same',\n",
    "activation='relu'),\n",
    "tf.keras.layers.MaxPool1D(pool_size=3, strides=2,padding='same'),\n",
    "tf.keras.layers.Dense(80, activation='relu'),\n",
    "tf.keras.layers.Dropout(0.5),\n",
    "tf.keras.layers.Dense(40, activation='relu'),\n",
    "tf.keras.layers.Dropout(0.5),\n",
    "tf.keras.layers.Dense(1,activation='sigmoid')\n",
    "])"
   ]
  },
  {
   "cell_type": "code",
   "execution_count": null,
   "metadata": {},
   "outputs": [],
   "source": [
    "model.build()\n",
    "model.compile(optimizer='adam',loss='binary_crossentropy',metrics=['accuracy'])\n",
    "model.summary()"
   ]
  },
  {
   "cell_type": "code",
   "execution_count": null,
   "metadata": {},
   "outputs": [],
   "source": [
    "model.fit(X_train_lem, y_train, epochs=10, batch_size=32)"
   ]
  },
  {
   "cell_type": "code",
   "execution_count": null,
   "metadata": {},
   "outputs": [],
   "source": [
    "with open(model_filename, 'wb') as f:\n",
    "    pickle.dump(model, f)"
   ]
  },
  {
   "cell_type": "code",
   "execution_count": null,
   "metadata": {},
   "outputs": [],
   "source": [
    "with open(model_filename, 'rb') as f:\n",
    "    model = pickle.load(f)"
   ]
  },
  {
   "cell_type": "markdown",
   "metadata": {},
   "source": [
    "# Testing del Sistema, Dataset \"Non Lemmatizzato\""
   ]
  }
 ],
 "metadata": {
  "kernelspec": {
   "display_name": "DL_CUDA",
   "language": "python",
   "name": "python3"
  },
  "language_info": {
   "codemirror_mode": {
    "name": "ipython",
    "version": 3
   },
   "file_extension": ".py",
   "mimetype": "text/x-python",
   "name": "python",
   "nbconvert_exporter": "python",
   "pygments_lexer": "ipython3",
   "version": "3.11.7"
  }
 },
 "nbformat": 4,
 "nbformat_minor": 2
}
