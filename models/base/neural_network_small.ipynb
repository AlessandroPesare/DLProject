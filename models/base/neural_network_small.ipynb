{
 "cells": [
  {
   "cell_type": "markdown",
   "metadata": {},
   "source": [
    "# Neural Network Classifier x Toxic Content Detection\n",
    "Il presente Notebook mostra l'addestramento ed il testing di un Classificatore basato su Neural network per il task di Toxic Content Detection.\n",
    "\n",
    "I dati sono stati processati come segue:\n",
    "1. Pulizia del testo (si veda, 'dataset_preprocessing.py')\n",
    "2. Lemmatizzazione con NLTK\n",
    "3. Vettorizzazione con TF-IDF"
   ]
  },
  {
   "cell_type": "code",
   "execution_count": 1,
   "metadata": {},
   "outputs": [
    {
     "name": "stderr",
     "output_type": "stream",
     "text": [
      "/var/folders/ss/s59pk8px01vb8p_b48z9wxz40000gn/T/ipykernel_28149/4170345038.py:1: DeprecationWarning: \n",
      "Pyarrow will become a required dependency of pandas in the next major release of pandas (pandas 3.0),\n",
      "(to allow more performant data types, such as the Arrow string type, and better interoperability with other libraries)\n",
      "but was not found to be installed on your system.\n",
      "If this would cause problems for you,\n",
      "please provide us feedback at https://github.com/pandas-dev/pandas/issues/54466\n",
      "        \n",
      "  import pandas as pd\n"
     ]
    }
   ],
   "source": [
    "import pandas as pd\n",
    "import pickle\n",
    "import nltk\n",
    "import re\n",
    "import matplotlib.pyplot as plt\n",
    "import numpy as np\n",
    "from nltk.tokenize import word_tokenize\n",
    "from nltk.corpus import wordnet\n",
    "from nltk.stem import WordNetLemmatizer\n",
    "from sklearn.feature_extraction.text import TfidfVectorizer\n",
    "import tensorflow as tf\n",
    "from tensorflow.keras.models import Sequential\n",
    "from tensorflow.keras.models import Model\n",
    "from tensorflow.keras.layers import Input, Conv1D, MaxPooling1D, Flatten, Dense,Reshape\n",
    "from keras.optimizers import Adam\n",
    "from datetime import datetime\n",
    "import matplotlib.pyplot as plt\n",
    "from sklearn.metrics import accuracy_score, precision_score, recall_score, f1_score, confusion_matrix, ConfusionMatrixDisplay"
   ]
  },
  {
   "cell_type": "markdown",
   "metadata": {},
   "source": [
    "All'interno del Notebook saranno addestrate due Reti Neurali, una sul Dataset \"non-Lemmatizzato\" e l'altra sul Dataset \"Lemmatizzato\"."
   ]
  },
  {
   "cell_type": "code",
   "execution_count": 43,
   "metadata": {},
   "outputs": [
    {
     "name": "stdout",
     "output_type": "stream",
     "text": [
      "GPU disponibile, TensorFlow sta utilizzando la GPU.\n"
     ]
    },
    {
     "name": "stderr",
     "output_type": "stream",
     "text": [
      "2024-02-11 16:39:42.690719: I tensorflow/core/common_runtime/pluggable_device/pluggable_device_factory.cc:306] Could not identify NUMA node of platform GPU ID 0, defaulting to 0. Your kernel may not have been built with NUMA support.\n",
      "2024-02-11 16:39:42.690749: I tensorflow/core/common_runtime/pluggable_device/pluggable_device_factory.cc:272] Created TensorFlow device (/device:GPU:0 with 0 MB memory) -> physical PluggableDevice (device: 0, name: METAL, pci bus id: <undefined>)\n"
     ]
    }
   ],
   "source": [
    "# Verifica il dispositivo attualmente utilizzato da TensorFlow\n",
    "device_name = tf.test.gpu_device_name()\n",
    "\n",
    "if device_name == '/device:GPU:0':\n",
    "    print('GPU disponibile, TensorFlow sta utilizzando la GPU.')\n",
    "else:\n",
    "    print('GPU non disponibile, TensorFlow sta utilizzando la CPU.')"
   ]
  },
  {
   "cell_type": "markdown",
   "metadata": {},
   "source": [
    "# Neural Network, Dataset \"non-Lemmatizzato\""
   ]
  },
  {
   "cell_type": "markdown",
   "metadata": {},
   "source": [
    "## Addestramento"
   ]
  },
  {
   "cell_type": "code",
   "execution_count": 2,
   "metadata": {},
   "outputs": [
    {
     "name": "stdout",
     "output_type": "stream",
     "text": [
      "Numero di Frasi nel Training Set: 15282\n",
      "Numero Frasi 'toxic' nel Training Set: 3058\n",
      "Numero Frasi 'not-toxic' nel Training Set: 12224\n"
     ]
    }
   ],
   "source": [
    "training_set = pd.read_csv(\"./../../datasets/training_set.csv\")\n",
    "print(\"Numero di Frasi nel Training Set:\", len(training_set))\n",
    "print(\"Numero Frasi 'toxic' nel Training Set:\", len(training_set[training_set['toxic'] == 1]))\n",
    "print(\"Numero Frasi 'not-toxic' nel Training Set:\", len(training_set[training_set['toxic'] == 0]))"
   ]
  },
  {
   "cell_type": "code",
   "execution_count": 3,
   "metadata": {},
   "outputs": [
    {
     "data": {
      "text/plain": [
       "(15282,)"
      ]
     },
     "execution_count": 3,
     "metadata": {},
     "output_type": "execute_result"
    }
   ],
   "source": [
    "y_train = training_set['toxic']\n",
    "y_train.shape"
   ]
  },
  {
   "cell_type": "code",
   "execution_count": 48,
   "metadata": {},
   "outputs": [
    {
     "name": "stdout",
     "output_type": "stream",
     "text": [
      "X_train.shape: (15282, 39767)\n"
     ]
    }
   ],
   "source": [
    "# Vettorizzazione con TF-IDF\n",
    "vectorizer = TfidfVectorizer(dtype=np.float32)\n",
    "\n",
    "X_train = vectorizer.fit_transform(training_set['comment_text'])\n",
    "print(\"X_train.shape: \" + str(X_train.shape))"
   ]
  },
  {
   "cell_type": "code",
   "execution_count": 52,
   "metadata": {},
   "outputs": [
    {
     "name": "stderr",
     "output_type": "stream",
     "text": [
      "WARNING:absl:At this time, the v2.11+ optimizer `tf.keras.optimizers.Adam` runs slowly on M1/M2 Macs, please use the legacy Keras optimizer instead, located at `tf.keras.optimizers.legacy.Adam`.\n",
      "WARNING:absl:`lr` is deprecated in Keras optimizer, please use `learning_rate` or use the legacy optimizer, e.g.,tf.keras.optimizers.legacy.Adam.\n"
     ]
    },
    {
     "name": "stdout",
     "output_type": "stream",
     "text": [
      "Model: \"model_6\"\n",
      "_________________________________________________________________\n",
      " Layer (type)                Output Shape              Param #   \n",
      "=================================================================\n",
      " review (InputLayer)         [(None, 39767)]           0         \n",
      "                                                                 \n",
      " reshape_8 (Reshape)         (None, 39767, 1)          0         \n",
      "                                                                 \n",
      " conv1d_25 (Conv1D)          (None, 39763, 32)         192       \n",
      "                                                                 \n",
      " max_pooling1d_16 (MaxPooli  (None, 19881, 32)         0         \n",
      " ng1D)                                                           \n",
      "                                                                 \n",
      " conv1d_26 (Conv1D)          (None, 19879, 32)         3104      \n",
      "                                                                 \n",
      " max_pooling1d_17 (MaxPooli  (None, 9939, 32)          0         \n",
      " ng1D)                                                           \n",
      "                                                                 \n",
      " conv1d_27 (Conv1D)          (None, 9935, 64)          10304     \n",
      "                                                                 \n",
      " flatten_8 (Flatten)         (None, 635840)            0         \n",
      "                                                                 \n",
      " main_output (Dense)         (None, 1)                 635841    \n",
      "                                                                 \n",
      "=================================================================\n",
      "Total params: 649441 (2.48 MB)\n",
      "Trainable params: 649441 (2.48 MB)\n",
      "Non-trainable params: 0 (0.00 Byte)\n",
      "_________________________________________________________________\n",
      "None\n"
     ]
    }
   ],
   "source": [
    "#CNN model Functional API\n",
    "review = Input(shape=(X_train.shape[1],), dtype='float', name='review')\n",
    "# Aggiunta di una dimensione per rappresentare il canale (l'input è bidimensionale e ci aspetta invece la dimensione associata al canale)\n",
    "review_reshaped = Reshape((X_train.shape[1], 1))(review)\n",
    "    \n",
    "# Layer convoluzionali\n",
    "conv_1 = Conv1D(filters=32, kernel_size=5, activation='relu')(review_reshaped)\n",
    "max_pool_1 = MaxPooling1D(pool_size=2)(conv_1)\n",
    "conv_2 = Conv1D(filters=32, kernel_size=3, activation='relu')(max_pool_1)\n",
    "max_pool_2 = MaxPooling1D(pool_size=2)(conv_2)\n",
    "conv_3 = Conv1D(filters=64, kernel_size=5, activation='relu')(max_pool_2)\n",
    "\n",
    "# Appiattimento e strato fully-connected\n",
    "flatten = Flatten()(conv_3)\n",
    "main_output = Dense(1, activation='sigmoid', name='main_output')(flatten)\n",
    "\n",
    "# Costruzione del modello\n",
    "model = Model(inputs=[review], outputs=[main_output])\n",
    "    \n",
    "# Compilazione del modello\n",
    "optimizer = Adam(lr=1e-2)\n",
    "model.compile(optimizer=optimizer, loss='binary_crossentropy', metrics=['accuracy'])\n",
    "print(model.summary())"
   ]
  },
  {
   "cell_type": "code",
   "execution_count": 39,
   "metadata": {},
   "outputs": [],
   "source": [
    "#CNN model Sequential API\n",
    "model = tf.keras.models.Sequential(\n",
    "    [\n",
    "        tf.keras.layers.Input(shape=(X_train.shape[1],), dtype='float'),\n",
    "        tf.keras.layers.Reshape((X_train.shape[1],1)),\n",
    "        tf.keras.layers.Conv1D(filters=32, kernel_size=5, activation='relu'),\n",
    "        tf.keras.layers.MaxPooling1D(pool_size=2),\n",
    "        tf.keras.layers.Conv1D(filters=32, kernel_size=3, activation='relu'),\n",
    "        tf.keras.layers.MaxPooling1D(pool_size=2),\n",
    "        tf.keras.layers.Conv1D(filters=64, kernel_size=5, activation='relu'),\n",
    "        tf.keras.layers.Flatten(),\n",
    "        tf.keras.layers.Dense(1,activation='sigmoid')\n",
    "    ]\n",
    ")"
   ]
  },
  {
   "cell_type": "code",
   "execution_count": 40,
   "metadata": {},
   "outputs": [
    {
     "name": "stdout",
     "output_type": "stream",
     "text": [
      "Model: \"sequential_1\"\n",
      "_________________________________________________________________\n",
      " Layer (type)                Output Shape              Param #   \n",
      "=================================================================\n",
      " reshape_4 (Reshape)         (None, 39767, 1)          0         \n",
      "                                                                 \n",
      " conv1d_13 (Conv1D)          (None, 39763, 32)         192       \n",
      "                                                                 \n",
      " max_pooling1d_8 (MaxPoolin  (None, 19881, 32)         0         \n",
      " g1D)                                                            \n",
      "                                                                 \n",
      " conv1d_14 (Conv1D)          (None, 19879, 32)         3104      \n",
      "                                                                 \n",
      " max_pooling1d_9 (MaxPoolin  (None, 9939, 32)          0         \n",
      " g1D)                                                            \n",
      "                                                                 \n",
      " conv1d_15 (Conv1D)          (None, 9935, 64)          10304     \n",
      "                                                                 \n",
      " flatten_4 (Flatten)         (None, 635840)            0         \n",
      "                                                                 \n",
      " dense_1 (Dense)             (None, 1)                 635841    \n",
      "                                                                 \n",
      "=================================================================\n",
      "Total params: 649441 (2.48 MB)\n",
      "Trainable params: 649441 (2.48 MB)\n",
      "Non-trainable params: 0 (0.00 Byte)\n",
      "_________________________________________________________________\n"
     ]
    }
   ],
   "source": [
    "model.summary()\n",
    "model.compile(optimizer='adam', loss='binary_crossentropy', metrics=['accuracy'])"
   ]
  },
  {
   "cell_type": "code",
   "execution_count": 53,
   "metadata": {},
   "outputs": [
    {
     "name": "stdout",
     "output_type": "stream",
     "text": [
      "Training della Rete Neurale sul Dataset 'non-Lemmatizzato'...\n",
      "Epoch 1/5\n"
     ]
    },
    {
     "name": "stderr",
     "output_type": "stream",
     "text": [
      "2024-02-11 16:47:07.545039: E tensorflow/core/grappler/optimizers/meta_optimizer.cc:961] model_pruner failed: INVALID_ARGUMENT: Graph does not contain terminal node Adam/AssignAddVariableOp.\n"
     ]
    },
    {
     "name": "stdout",
     "output_type": "stream",
     "text": [
      "478/478 [==============================] - 94s 187ms/step - loss: 0.2595 - accuracy: 0.8966\n",
      "Epoch 2/5\n",
      "478/478 [==============================] - 86s 180ms/step - loss: 0.1262 - accuracy: 0.9529\n",
      "Epoch 3/5\n",
      "478/478 [==============================] - 85s 178ms/step - loss: 0.0752 - accuracy: 0.9729\n",
      "Epoch 4/5\n",
      "478/478 [==============================] - 86s 179ms/step - loss: 0.0472 - accuracy: 0.9849\n",
      "Epoch 5/5\n",
      "478/478 [==============================] - 85s 178ms/step - loss: 0.0281 - accuracy: 0.9902\n",
      "Training completato! Tempo impiegato: 0:07:19.480279\n"
     ]
    },
    {
     "name": "stderr",
     "output_type": "stream",
     "text": [
      "/Users/alessandropesare/anaconda3/envs/DL_GPU_Full/lib/python3.11/site-packages/keras/src/engine/training.py:3103: UserWarning: You are saving your model as an HDF5 file via `model.save()`. This file format is considered legacy. We recommend using instead the native Keras format, e.g. `model.save('my_model.keras')`.\n",
      "  saving_api.save_model(\n"
     ]
    }
   ],
   "source": [
    "X_train = X_train.toarray()\n",
    "\n",
    "# Addestramento sul Dataset non-lemmatizzato\n",
    "print(\"Training della Rete Neurale sul Dataset 'non-Lemmatizzato'...\")\n",
    "start = datetime.now()\n",
    "model.fit(X_train, y_train,epochs=5, batch_size=32)\n",
    "end = datetime.now()\n",
    "print(\"Training completato! Tempo impiegato: \" + str(end-start))\n",
    "\n",
    "model.save(\"neural_classifier_small.h5\")"
   ]
  },
  {
   "cell_type": "code",
   "execution_count": 54,
   "metadata": {},
   "outputs": [
    {
     "name": "stderr",
     "output_type": "stream",
     "text": [
      "WARNING:absl:At this time, the v2.11+ optimizer `tf.keras.optimizers.Adam` runs slowly on M1/M2 Macs, please use the legacy Keras optimizer instead, located at `tf.keras.optimizers.legacy.Adam`.\n"
     ]
    }
   ],
   "source": [
    "model = tf.keras.models.load_model(\"neural_classifier_small.h5\")"
   ]
  },
  {
   "cell_type": "markdown",
   "metadata": {},
   "source": [
    "## Testing"
   ]
  },
  {
   "cell_type": "code",
   "execution_count": 17,
   "metadata": {},
   "outputs": [
    {
     "name": "stdout",
     "output_type": "stream",
     "text": [
      "Numero di Frasi nel Test Set: 63842\n",
      "Numero Frasi 'toxic' nel Test Set: 6087\n",
      "Numero Frasi 'not-toxic' nel Test Set: 57755\n"
     ]
    }
   ],
   "source": [
    "test_data = pd.read_csv(\"./../../datasets/test_set.csv\")\n",
    "test_data.dropna(inplace=True)\n",
    "\n",
    "test_set = test_data[test_data['toxic'] != -1]\n",
    "exp_set = test_data[test_data['toxic'] == -1]\n",
    "\n",
    "print(\"Numero di Frasi nel Test Set:\", len(test_set))\n",
    "print(\"Numero Frasi 'toxic' nel Test Set:\", len(test_set[test_set['toxic'] == 1]))\n",
    "print(\"Numero Frasi 'not-toxic' nel Test Set:\", len(test_set[test_set['toxic'] == 0]))"
   ]
  },
  {
   "cell_type": "code",
   "execution_count": 18,
   "metadata": {},
   "outputs": [],
   "source": [
    "y_test = test_set['toxic']"
   ]
  },
  {
   "cell_type": "code",
   "execution_count": 57,
   "metadata": {},
   "outputs": [
    {
     "name": "stdout",
     "output_type": "stream",
     "text": [
      "X_test.shape: (63842, 39767)\n"
     ]
    }
   ],
   "source": [
    "X_test = vectorizer.transform(test_set['comment_text'])\n",
    "print(\"X_test.shape: \" + str(X_test.shape))"
   ]
  },
  {
   "cell_type": "code",
   "execution_count": 58,
   "metadata": {},
   "outputs": [
    {
     "name": "stdout",
     "output_type": "stream",
     "text": [
      "79/79 [==============================] - 6s 76ms/step\n",
      "79/79 [==============================] - 5s 69ms/step\n",
      "79/79 [==============================] - 5s 67ms/step\n",
      "79/79 [==============================] - 5s 67ms/step\n",
      "79/79 [==============================] - 5s 66ms/step\n",
      "79/79 [==============================] - 5s 66ms/step\n",
      "79/79 [==============================] - 5s 67ms/step\n",
      "79/79 [==============================] - 5s 67ms/step\n",
      "79/79 [==============================] - 5s 66ms/step\n",
      "79/79 [==============================] - 5s 67ms/step\n",
      "79/79 [==============================] - 5s 67ms/step\n",
      "79/79 [==============================] - 5s 66ms/step\n",
      "79/79 [==============================] - 5s 68ms/step\n",
      "79/79 [==============================] - 5s 69ms/step\n",
      "79/79 [==============================] - 5s 68ms/step\n",
      "79/79 [==============================] - 5s 66ms/step\n",
      "79/79 [==============================] - 5s 66ms/step\n",
      "79/79 [==============================] - 5s 66ms/step\n",
      "79/79 [==============================] - 5s 66ms/step\n",
      "79/79 [==============================] - 5s 66ms/step\n",
      "79/79 [==============================] - 5s 66ms/step\n",
      "79/79 [==============================] - 5s 66ms/step\n",
      "79/79 [==============================] - 5s 66ms/step\n",
      "79/79 [==============================] - 5s 67ms/step\n",
      "79/79 [==============================] - 5s 66ms/step\n",
      "42/42 [==============================] - 3s 78ms/step\n"
     ]
    }
   ],
   "source": [
    "i = 0\n",
    "predictions = list()\n",
    "while i < X_test.shape[0]:\n",
    "    to_submit = X_test[i:i+2500]\n",
    "    to_test = to_submit.toarray()\n",
    "    y_pred = model.predict(to_test)\n",
    "    predictions.append(y_pred)\n",
    "    i += 2500\n",
    "\n",
    "    del to_submit\n",
    "    del to_test\n",
    "    del y_pred"
   ]
  },
  {
   "cell_type": "code",
   "execution_count": 59,
   "metadata": {},
   "outputs": [],
   "source": [
    "y_pred = np.concatenate(predictions)\n",
    "y_pred.shape\n",
    "y_pred_binary = np.where(y_pred > 0.5, 1, 0)"
   ]
  },
  {
   "cell_type": "code",
   "execution_count": 60,
   "metadata": {},
   "outputs": [
    {
     "name": "stdout",
     "output_type": "stream",
     "text": [
      "Accuracy: 0.8785439052661258\n",
      "Precision: 0.4276035785633632\n",
      "Recall: 0.8087727944800395\n",
      "F-Measure: 0.5594318181818182\n"
     ]
    }
   ],
   "source": [
    "#Metriche: Accuracy,Precision,Recall\n",
    "print(\"Accuracy: \" + str(accuracy_score(y_test, y_pred_binary)))\n",
    "print(\"Precision: \" + str(precision_score(y_test, y_pred_binary)))\n",
    "print(\"Recall: \" + str(recall_score(y_test, y_pred_binary)))\n",
    "print(\"F-Measure: \" + str(f1_score(y_test, y_pred_binary)))"
   ]
  },
  {
   "cell_type": "code",
   "execution_count": 62,
   "metadata": {},
   "outputs": [
    {
     "data": {
      "image/png": "[encoded data removed]",
      "text/plain": [
       "<Figure size 640x480 with 2 Axes>"
      ]
     },
     "metadata": {},
     "output_type": "display_data"
    }
   ],
   "source": [
    "cm = confusion_matrix(y_test, y_pred_binary, labels=[0,1])\n",
    "disp = ConfusionMatrixDisplay(confusion_matrix=cm, display_labels=[0,1])\n",
    "disp.plot()\n",
    "plt.show()"
   ]
  },
  {
   "cell_type": "markdown",
   "metadata": {},
   "source": [
    "# Neural Network, Dataset \"Lemmatizzato\""
   ]
  },
  {
   "cell_type": "code",
   "execution_count": 4,
   "metadata": {},
   "outputs": [],
   "source": [
    "tf.keras.backend.clear_session()"
   ]
  },
  {
   "cell_type": "markdown",
   "metadata": {},
   "source": [
    "## Addestramento"
   ]
  },
  {
   "cell_type": "code",
   "execution_count": 5,
   "metadata": {},
   "outputs": [],
   "source": [
    "training_set_lem = pd.read_csv(\"./../../datasets/training_set_lemmatized.csv\")"
   ]
  },
  {
   "cell_type": "code",
   "execution_count": 6,
   "metadata": {},
   "outputs": [
    {
     "name": "stdout",
     "output_type": "stream",
     "text": [
      "X_train_lem.shape: (15282, 34238)\n"
     ]
    }
   ],
   "source": [
    "# Vettorizzazione con TF-IDF\n",
    "vectorizer_lem = TfidfVectorizer(dtype=np.float32)\n",
    "\n",
    "X_train_lem = vectorizer_lem.fit_transform(training_set_lem['comment_text'])\n",
    "print(\"X_train_lem.shape: \" + str(X_train_lem.shape))"
   ]
  },
  {
   "cell_type": "code",
   "execution_count": 7,
   "metadata": {},
   "outputs": [
    {
     "name": "stderr",
     "output_type": "stream",
     "text": [
      "2024-02-11 17:31:16.221626: I metal_plugin/src/device/metal_device.cc:1154] Metal device set to: Apple M1\n",
      "2024-02-11 17:31:16.221656: I metal_plugin/src/device/metal_device.cc:296] systemMemory: 8.00 GB\n",
      "2024-02-11 17:31:16.221664: I metal_plugin/src/device/metal_device.cc:313] maxCacheSize: 2.67 GB\n",
      "2024-02-11 17:31:16.221774: I tensorflow/core/common_runtime/pluggable_device/pluggable_device_factory.cc:306] Could not identify NUMA node of platform GPU ID 0, defaulting to 0. Your kernel may not have been built with NUMA support.\n",
      "2024-02-11 17:31:16.221797: I tensorflow/core/common_runtime/pluggable_device/pluggable_device_factory.cc:272] Created TensorFlow device (/job:localhost/replica:0/task:0/device:GPU:0 with 0 MB memory) -> physical PluggableDevice (device: 0, name: METAL, pci bus id: <undefined>)\n",
      "WARNING:absl:At this time, the v2.11+ optimizer `tf.keras.optimizers.Adam` runs slowly on M1/M2 Macs, please use the legacy Keras optimizer instead, located at `tf.keras.optimizers.legacy.Adam`.\n",
      "WARNING:absl:`lr` is deprecated in Keras optimizer, please use `learning_rate` or use the legacy optimizer, e.g.,tf.keras.optimizers.legacy.Adam.\n"
     ]
    },
    {
     "name": "stdout",
     "output_type": "stream",
     "text": [
      "Model: \"model\"\n",
      "_________________________________________________________________\n",
      " Layer (type)                Output Shape              Param #   \n",
      "=================================================================\n",
      " review (InputLayer)         [(None, 34238)]           0         \n",
      "                                                                 \n",
      " reshape (Reshape)           (None, 34238, 1)          0         \n",
      "                                                                 \n",
      " conv1d (Conv1D)             (None, 34234, 32)         192       \n",
      "                                                                 \n",
      " max_pooling1d (MaxPooling1  (None, 17117, 32)         0         \n",
      " D)                                                              \n",
      "                                                                 \n",
      " conv1d_1 (Conv1D)           (None, 17115, 32)         3104      \n",
      "                                                                 \n",
      " max_pooling1d_1 (MaxPoolin  (None, 8557, 32)          0         \n",
      " g1D)                                                            \n",
      "                                                                 \n",
      " conv1d_2 (Conv1D)           (None, 8553, 64)          10304     \n",
      "                                                                 \n",
      " flatten (Flatten)           (None, 547392)            0         \n",
      "                                                                 \n",
      " main_output (Dense)         (None, 1)                 547393    \n",
      "                                                                 \n",
      "=================================================================\n",
      "Total params: 560993 (2.14 MB)\n",
      "Trainable params: 560993 (2.14 MB)\n",
      "Non-trainable params: 0 (0.00 Byte)\n",
      "_________________________________________________________________\n",
      "None\n"
     ]
    }
   ],
   "source": [
    "#CNN model Functional API\n",
    "review = Input(shape=(X_train_lem.shape[1],), dtype='float', name='review')\n",
    "# Aggiunta di una dimensione per rappresentare il canale (l'input è bidimensionale e ci aspetta invece la dimensione associata al canale)\n",
    "review_reshaped = Reshape((X_train_lem.shape[1], 1))(review)\n",
    "    \n",
    "# Layer convoluzionali\n",
    "conv_1 = Conv1D(filters=32, kernel_size=5, activation='relu')(review_reshaped)\n",
    "max_pool_1 = MaxPooling1D(pool_size=2)(conv_1)\n",
    "conv_2 = Conv1D(filters=32, kernel_size=3, activation='relu')(max_pool_1)\n",
    "max_pool_2 = MaxPooling1D(pool_size=2)(conv_2)\n",
    "conv_3 = Conv1D(filters=64, kernel_size=5, activation='relu')(max_pool_2)\n",
    "\n",
    "# Appiattimento e strato fully-connected\n",
    "flatten = Flatten()(conv_3)\n",
    "main_output = Dense(1, activation='sigmoid', name='main_output')(flatten)\n",
    "\n",
    "# Costruzione del modello\n",
    "model_lem = Model(inputs=[review], outputs=[main_output])\n",
    "    \n",
    "# Compilazione del modello\n",
    "optimizer = Adam(lr=1e-2)\n",
    "model_lem.compile(optimizer=optimizer, loss='binary_crossentropy', metrics=['accuracy'])\n",
    "print(model_lem.summary())"
   ]
  },
  {
   "cell_type": "code",
   "execution_count": 22,
   "metadata": {},
   "outputs": [],
   "source": [
    "#CNN model Sequential API\n",
    "model_lem = tf.keras.models.Sequential(\n",
    "    [\n",
    "        tf.keras.layers.Input(shape=(X_train_lem.shape[1],), dtype='float'),\n",
    "        tf.keras.layers.Reshape((X_train_lem.shape[1],1)),\n",
    "        tf.keras.layers.Conv1D(filters=32, kernel_size=5, activation='relu'),\n",
    "        tf.keras.layers.MaxPooling1D(pool_size=2),\n",
    "        tf.keras.layers.Conv1D(filters=32, kernel_size=3, activation='relu'),\n",
    "        tf.keras.layers.MaxPooling1D(pool_size=2),\n",
    "        tf.keras.layers.Conv1D(filters=64, kernel_size=5, activation='relu'),\n",
    "        tf.keras.layers.Flatten(),\n",
    "        tf.keras.layers.Dense(1,activation='sigmoid')\n",
    "    ]\n",
    ")"
   ]
  },
  {
   "cell_type": "code",
   "execution_count": 23,
   "metadata": {},
   "outputs": [
    {
     "name": "stdout",
     "output_type": "stream",
     "text": [
      "Model: \"sequential\"\n",
      "_________________________________________________________________\n",
      " Layer (type)                Output Shape              Param #   \n",
      "=================================================================\n",
      " reshape (Reshape)           (None, 34238, 1)          0         \n",
      "                                                                 \n",
      " conv1d (Conv1D)             (None, 34234, 32)         192       \n",
      "                                                                 \n",
      " max_pooling1d (MaxPooling1D  (None, 17117, 32)        0         \n",
      " )                                                               \n",
      "                                                                 \n",
      " conv1d_1 (Conv1D)           (None, 17115, 32)         3104      \n",
      "                                                                 \n",
      " max_pooling1d_1 (MaxPooling  (None, 8557, 32)         0         \n",
      " 1D)                                                             \n",
      "                                                                 \n",
      " conv1d_2 (Conv1D)           (None, 8553, 64)          10304     \n",
      "                                                                 \n",
      " flatten (Flatten)           (None, 547392)            0         \n",
      "                                                                 \n",
      " dense (Dense)               (None, 1)                 547393    \n",
      "                                                                 \n",
      "=================================================================\n",
      "Total params: 560,993\n",
      "Trainable params: 560,993\n",
      "Non-trainable params: 0\n",
      "_________________________________________________________________\n"
     ]
    }
   ],
   "source": [
    "model_lem.summary()\n",
    "model_lem.compile(optimizer='adam', loss='binary_crossentropy', metrics=['accuracy'])"
   ]
  },
  {
   "cell_type": "code",
   "execution_count": 8,
   "metadata": {},
   "outputs": [
    {
     "name": "stdout",
     "output_type": "stream",
     "text": [
      "Training della Rete Neurale sul Dataset 'non-Lemmatizzato'...\n",
      "Epoch 1/5\n"
     ]
    },
    {
     "name": "stderr",
     "output_type": "stream",
     "text": [
      "2024-02-11 17:31:23.945012: I tensorflow/core/grappler/optimizers/custom_graph_optimizer_registry.cc:117] Plugin optimizer for device_type GPU is enabled.\n",
      "2024-02-11 17:31:23.988148: E tensorflow/core/grappler/optimizers/meta_optimizer.cc:961] model_pruner failed: INVALID_ARGUMENT: Graph does not contain terminal node Adam/AssignAddVariableOp.\n"
     ]
    },
    {
     "name": "stdout",
     "output_type": "stream",
     "text": [
      "478/478 [==============================] - 68s 136ms/step - loss: 0.2585 - accuracy: 0.8966\n",
      "Epoch 2/5\n",
      "478/478 [==============================] - 63s 132ms/step - loss: 0.1285 - accuracy: 0.9529\n",
      "Epoch 3/5\n",
      "478/478 [==============================] - 63s 132ms/step - loss: 0.0801 - accuracy: 0.9719\n",
      "Epoch 4/5\n",
      "478/478 [==============================] - 63s 132ms/step - loss: 0.0471 - accuracy: 0.9840\n",
      "Epoch 5/5\n",
      "478/478 [==============================] - 63s 132ms/step - loss: 0.0307 - accuracy: 0.9909\n",
      "Training completato! Tempo impiegato: 0:05:22.206351\n"
     ]
    },
    {
     "name": "stderr",
     "output_type": "stream",
     "text": [
      "/Users/alessandropesare/anaconda3/envs/DL_GPU_Full/lib/python3.11/site-packages/keras/src/engine/training.py:3103: UserWarning: You are saving your model as an HDF5 file via `model.save()`. This file format is considered legacy. We recommend using instead the native Keras format, e.g. `model.save('my_model.keras')`.\n",
      "  saving_api.save_model(\n"
     ]
    }
   ],
   "source": [
    "X_train_lem = X_train_lem.toarray()\n",
    "\n",
    "# Addestramento sul Dataset non-lemmatizzato\n",
    "print(\"Training della Rete Neurale sul Dataset 'non-Lemmatizzato'...\")\n",
    "start = datetime.now()\n",
    "model_lem.fit(X_train_lem, y_train,epochs=5, batch_size=32)\n",
    "end = datetime.now()\n",
    "print(\"Training completato! Tempo impiegato: \" + str(end-start))\n",
    "\n",
    "model_lem.save(\"neural_classifier_small_lem.h5\")"
   ]
  },
  {
   "cell_type": "code",
   "execution_count": 9,
   "metadata": {},
   "outputs": [
    {
     "name": "stderr",
     "output_type": "stream",
     "text": [
      "WARNING:absl:At this time, the v2.11+ optimizer `tf.keras.optimizers.Adam` runs slowly on M1/M2 Macs, please use the legacy Keras optimizer instead, located at `tf.keras.optimizers.legacy.Adam`.\n"
     ]
    }
   ],
   "source": [
    "model_lem = tf.keras.models.load_model(\"neural_classifier_small_lem.h5\")"
   ]
  },
  {
   "cell_type": "markdown",
   "metadata": {},
   "source": [
    "## Testing"
   ]
  },
  {
   "cell_type": "code",
   "execution_count": 10,
   "metadata": {},
   "outputs": [],
   "source": [
    "test_data_lem = pd.read_csv(\"./../../datasets/test_set_lemmatized.csv\")\n",
    "test_data_lem.dropna(inplace=True)\n",
    "\n",
    "test_set_lem = test_data_lem[test_data_lem['toxic'] != -1]\n",
    "exp_set_lem = test_data_lem[test_data_lem['toxic'] == -1]"
   ]
  },
  {
   "cell_type": "code",
   "execution_count": 11,
   "metadata": {},
   "outputs": [
    {
     "name": "stdout",
     "output_type": "stream",
     "text": [
      "X_test_lem.shape: (63842, 34238)\n"
     ]
    }
   ],
   "source": [
    "X_test_lem = vectorizer_lem.transform(test_set_lem['comment_text'])\n",
    "print(\"X_test_lem.shape: \" + str(X_test_lem.shape))"
   ]
  },
  {
   "cell_type": "code",
   "execution_count": 13,
   "metadata": {},
   "outputs": [
    {
     "name": "stdout",
     "output_type": "stream",
     "text": [
      "79/79 [==============================] - 6s 69ms/step\n",
      "79/79 [==============================] - 5s 60ms/step\n",
      "79/79 [==============================] - 5s 59ms/step\n",
      "79/79 [==============================] - 5s 58ms/step\n",
      "79/79 [==============================] - 5s 59ms/step\n",
      "79/79 [==============================] - 5s 58ms/step\n",
      "79/79 [==============================] - 5s 58ms/step\n",
      "79/79 [==============================] - 5s 58ms/step\n",
      "79/79 [==============================] - 5s 62ms/step\n",
      "79/79 [==============================] - 5s 59ms/step\n",
      "79/79 [==============================] - 5s 59ms/step\n",
      "79/79 [==============================] - 5s 59ms/step\n",
      "79/79 [==============================] - 5s 58ms/step\n",
      "79/79 [==============================] - 5s 59ms/step\n",
      "79/79 [==============================] - 5s 59ms/step\n",
      "79/79 [==============================] - 5s 58ms/step\n",
      "79/79 [==============================] - 5s 59ms/step\n",
      "79/79 [==============================] - 5s 58ms/step\n",
      "79/79 [==============================] - 5s 59ms/step\n",
      "79/79 [==============================] - 5s 58ms/step\n",
      "79/79 [==============================] - 5s 58ms/step\n",
      "79/79 [==============================] - 5s 59ms/step\n",
      "79/79 [==============================] - 5s 58ms/step\n",
      "79/79 [==============================] - 5s 59ms/step\n",
      "79/79 [==============================] - 5s 59ms/step\n",
      "42/42 [==============================] - 3s 70ms/step\n"
     ]
    }
   ],
   "source": [
    "i = 0\n",
    "predictions = list()\n",
    "while i < X_test_lem.shape[0]:\n",
    "    to_submit = X_test_lem[i:i+2500]\n",
    "    to_test = to_submit.toarray()\n",
    "    y_pred = model_lem.predict(to_test)\n",
    "    predictions.append(y_pred)\n",
    "    i += 2500\n",
    "\n",
    "    del to_submit\n",
    "    del to_test\n",
    "    del y_pred"
   ]
  },
  {
   "cell_type": "code",
   "execution_count": 14,
   "metadata": {},
   "outputs": [],
   "source": [
    "y_pred_lem = np.concatenate(predictions)\n",
    "y_pred_lem.shape\n",
    "y_pred_binary_lem = np.where(y_pred_lem > 0.5, 1, 0)"
   ]
  },
  {
   "cell_type": "code",
   "execution_count": 19,
   "metadata": {},
   "outputs": [
    {
     "name": "stdout",
     "output_type": "stream",
     "text": [
      "Accuracy: 0.8971993358604053\n",
      "Precision: 0.47594015365952286\n",
      "Recall: 0.7734516182027271\n",
      "F-Measure: 0.5892734213655423\n"
     ]
    }
   ],
   "source": [
    "#Metriche: Accuracy,Precision,Recall\n",
    "print(\"Accuracy: \" + str(accuracy_score(y_test, y_pred_binary_lem)))\n",
    "print(\"Precision: \" + str(precision_score(y_test, y_pred_binary_lem)))\n",
    "print(\"Recall: \" + str(recall_score(y_test, y_pred_binary_lem)))\n",
    "print(\"F-Measure: \" + str(f1_score(y_test, y_pred_binary_lem)))"
   ]
  },
  {
   "cell_type": "code",
   "execution_count": 20,
   "metadata": {},
   "outputs": [
    {
     "data": {
      "image/png": "[encoded data removed]",
      "text/plain": [
       "<Figure size 640x480 with 2 Axes>"
      ]
     },
     "metadata": {},
     "output_type": "display_data"
    }
   ],
   "source": [
    "cm = confusion_matrix(y_test, y_pred_binary_lem, labels=[0,1])\n",
    "disp = ConfusionMatrixDisplay(confusion_matrix=cm, display_labels=[0,1])\n",
    "disp.plot()\n",
    "plt.show()"
   ]
  }
 ],
 "metadata": {
  "kernelspec": {
   "display_name": "DL_CUDA",
   "language": "python",
   "name": "python3"
  },
  "language_info": {
   "codemirror_mode": {
    "name": "ipython",
    "version": 3
   },
   "file_extension": ".py",
   "mimetype": "text/x-python",
   "name": "python",
   "nbconvert_exporter": "python",
   "pygments_lexer": "ipython3",
   "version": "3.11.7"
  }
 },
 "nbformat": 4,
 "nbformat_minor": 2
}
