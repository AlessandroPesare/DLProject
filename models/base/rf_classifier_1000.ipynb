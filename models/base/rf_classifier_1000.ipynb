{
 "cells": [
  {
   "cell_type": "markdown",
   "metadata": {},
   "source": [
    "# Random Forest Classifier x Toxic Content Detection\n",
    "Il presente Notebook mostra l'addestramento ed il testing di un Classificatore basato su Random Forest per il task di Toxic Content Detection.\n",
    "\n",
    "I dati sono stati processati come segue:\n",
    "1. Pulizia del testo (si veda, 'dataset_preprocessing.py')\n",
    "2. Lemmatizzazione con NLTK\n",
    "3. Vettorizzazione con TF-IDF"
   ]
  },
  {
   "cell_type": "code",
   "execution_count": 1,
   "metadata": {},
   "outputs": [],
   "source": [
    "import pandas as pd\n",
    "import pickle\n",
    "import nltk\n",
    "import re\n",
    "import matplotlib.pyplot as plt\n",
    "from nltk.tokenize import word_tokenize\n",
    "from nltk.corpus import wordnet\n",
    "from nltk.stem import WordNetLemmatizer\n",
    "from sklearn.feature_extraction.text import TfidfVectorizer\n",
    "from sklearn.ensemble import RandomForestClassifier\n",
    "from datetime import datetime\n",
    "from sklearn.metrics import accuracy_score, precision_score, recall_score, f1_score, confusion_matrix, ConfusionMatrixDisplay, roc_auc_score"
   ]
  },
  {
   "cell_type": "markdown",
   "metadata": {},
   "source": [
    "All'interno del Notebook saranno addestrati due Classificatori RandomForest con 1000 Alberi, uno sul Dataset \"non-Lemmatizzato\" e l'altro sul Dataset \"Lemmatizzato\"."
   ]
  },
  {
   "cell_type": "markdown",
   "metadata": {},
   "source": [
    "# RandomForest_1000, Dataset \"non-Lemmatizzato\""
   ]
  },
  {
   "cell_type": "markdown",
   "metadata": {},
   "source": [
    "## Addestramento"
   ]
  },
  {
   "cell_type": "code",
   "execution_count": 2,
   "metadata": {},
   "outputs": [
    {
     "name": "stdout",
     "output_type": "stream",
     "text": [
      "Numero di Frasi nel Training Set: 15282\n",
      "Numero Frasi 'toxic' nel Training Set: 3058\n",
      "Numero Frasi 'not-toxic' nel Training Set: 12224\n"
     ]
    }
   ],
   "source": [
    "training_set = pd.read_csv(\"./../../datasets/training_set.csv\")\n",
    "print(\"Numero di Frasi nel Training Set:\", len(training_set))\n",
    "print(\"Numero Frasi 'toxic' nel Training Set:\", len(training_set[training_set['toxic'] == 1]))\n",
    "print(\"Numero Frasi 'not-toxic' nel Training Set:\", len(training_set[training_set['toxic'] == 0]))"
   ]
  },
  {
   "cell_type": "code",
   "execution_count": 3,
   "metadata": {},
   "outputs": [],
   "source": [
    "y_train = training_set['toxic']"
   ]
  },
  {
   "cell_type": "code",
   "execution_count": 4,
   "metadata": {},
   "outputs": [
    {
     "name": "stdout",
     "output_type": "stream",
     "text": [
      "X_train.shape: (15282, 39767)\n"
     ]
    }
   ],
   "source": [
    "# Vettorizzazione con TF-IDF\n",
    "vectorizer = TfidfVectorizer()\n",
    "\n",
    "X_train = vectorizer.fit_transform(training_set['comment_text'])\n",
    "print(\"X_train.shape: \" + str(X_train.shape))"
   ]
  },
  {
   "cell_type": "code",
   "execution_count": 5,
   "metadata": {},
   "outputs": [],
   "source": [
    "cl = RandomForestClassifier(n_estimators=1000, random_state=24, verbose=1)\n",
    "model_filename = \"rf_classifier_1000.pkl\""
   ]
  },
  {
   "cell_type": "code",
   "execution_count": null,
   "metadata": {},
   "outputs": [],
   "source": [
    "# Addestramento sul Dataset non-lemmatizzato\n",
    "print(\"Training di RF_1000 sul Dataset 'non-Lemmatizzato'...\")\n",
    "start = datetime.now()\n",
    "cl.fit(X=X_train, y=y_train)\n",
    "end = datetime.now()\n",
    "print(\"Training completato! Tempo impiegato: \" + str(end-start))\n",
    "\n",
    "with open(model_filename, 'wb') as f:\n",
    "    pickle.dump(cl, f)"
   ]
  },
  {
   "cell_type": "code",
   "execution_count": 6,
   "metadata": {},
   "outputs": [],
   "source": [
    "# Caricamento del Modello pre-addestrato\n",
    "with open(model_filename, 'rb') as f:\n",
    "    cl = pickle.load(f)"
   ]
  },
  {
   "cell_type": "markdown",
   "metadata": {},
   "source": [
    "## Testing"
   ]
  },
  {
   "cell_type": "code",
   "execution_count": 7,
   "metadata": {},
   "outputs": [
    {
     "name": "stdout",
     "output_type": "stream",
     "text": [
      "Numero di Frasi nel Test Set: 63842\n",
      "Numero Frasi 'toxic' nel Test Set: 6087\n",
      "Numero Frasi 'not-toxic' nel Test Set: 57755\n"
     ]
    }
   ],
   "source": [
    "test_data = pd.read_csv(\"./../../datasets/test_set.csv\")\n",
    "test_data.dropna(inplace=True)\n",
    "\n",
    "test_set = test_data[test_data['toxic'] != -1]\n",
    "exp_set = test_data[test_data['toxic'] == -1]\n",
    "\n",
    "print(\"Numero di Frasi nel Test Set:\", len(test_set))\n",
    "print(\"Numero Frasi 'toxic' nel Test Set:\", len(test_set[test_set['toxic'] == 1]))\n",
    "print(\"Numero Frasi 'not-toxic' nel Test Set:\", len(test_set[test_set['toxic'] == 0]))"
   ]
  },
  {
   "cell_type": "code",
   "execution_count": 8,
   "metadata": {},
   "outputs": [],
   "source": [
    "y_test = test_set['toxic']"
   ]
  },
  {
   "cell_type": "code",
   "execution_count": 9,
   "metadata": {},
   "outputs": [
    {
     "name": "stdout",
     "output_type": "stream",
     "text": [
      "X_test.shape: (63842, 39767)\n"
     ]
    }
   ],
   "source": [
    "X_test = vectorizer.transform(test_set['comment_text'])\n",
    "print(\"X_test.shape: \" + str(X_test.shape))"
   ]
  },
  {
   "cell_type": "code",
   "execution_count": 10,
   "metadata": {},
   "outputs": [
    {
     "name": "stderr",
     "output_type": "stream",
     "text": [
      "[Parallel(n_jobs=1)]: Done  49 tasks      | elapsed:    1.5s\n",
      "[Parallel(n_jobs=1)]: Done 199 tasks      | elapsed:    6.2s\n",
      "[Parallel(n_jobs=1)]: Done 449 tasks      | elapsed:   14.3s\n",
      "[Parallel(n_jobs=1)]: Done 799 tasks      | elapsed:   25.5s\n"
     ]
    },
    {
     "name": "stdout",
     "output_type": "stream",
     "text": [
      "Accuracy: 0.9002224241095204\n",
      "Precision: 0.4776284584980237\n",
      "Recall: 0.49630359783144407\n",
      "F-Measure: 0.4867869803416049\n"
     ]
    }
   ],
   "source": [
    "y_pred = cl.predict(X_test)\n",
    "print(\"Accuracy: \" + str(accuracy_score(y_test, y_pred)))\n",
    "print(\"Precision: \" + str(precision_score(y_test, y_pred)))\n",
    "print(\"Recall: \" + str(recall_score(y_test, y_pred)))\n",
    "print(\"F-Measure: \" + str(f1_score(y_test, y_pred)))"
   ]
  },
  {
   "cell_type": "code",
   "execution_count": 11,
   "metadata": {},
   "outputs": [
    {
     "data": {
      "image/png": "[encoded data removed]",
      "text/plain": [
       "<Figure size 640x480 with 2 Axes>"
      ]
     },
     "metadata": {},
     "output_type": "display_data"
    }
   ],
   "source": [
    "cm = confusion_matrix(y_test, y_pred, labels=cl.classes_)\n",
    "disp = ConfusionMatrixDisplay(confusion_matrix=cm, display_labels=cl.classes_)\n",
    "disp.plot()\n",
    "plt.show()"
   ]
  },
  {
   "cell_type": "code",
   "execution_count": 12,
   "metadata": {},
   "outputs": [
    {
     "name": "stderr",
     "output_type": "stream",
     "text": [
      "[Parallel(n_jobs=1)]: Done  49 tasks      | elapsed:    1.4s\n",
      "[Parallel(n_jobs=1)]: Done 199 tasks      | elapsed:    6.2s\n",
      "[Parallel(n_jobs=1)]: Done 449 tasks      | elapsed:   14.2s\n",
      "[Parallel(n_jobs=1)]: Done 799 tasks      | elapsed:   25.2s\n"
     ]
    },
    {
     "name": "stdout",
     "output_type": "stream",
     "text": [
      "ROC-AUC Score: 0.907260665577533\n"
     ]
    }
   ],
   "source": [
    "y_score = cl.predict_proba(X_test)[:, 1]\n",
    "print(\"ROC-AUC Score:\", roc_auc_score(y_test, y_score))"
   ]
  },
  {
   "cell_type": "markdown",
   "metadata": {},
   "source": [
    "# RandomForest_1000, Dataset \"Lemmatizzato\""
   ]
  },
  {
   "cell_type": "markdown",
   "metadata": {},
   "source": [
    "## Addestramento"
   ]
  },
  {
   "cell_type": "code",
   "execution_count": 13,
   "metadata": {},
   "outputs": [],
   "source": [
    "training_set_lem = pd.read_csv(\"./../../datasets/training_set_lemmatized.csv\")"
   ]
  },
  {
   "cell_type": "code",
   "execution_count": 14,
   "metadata": {},
   "outputs": [
    {
     "name": "stdout",
     "output_type": "stream",
     "text": [
      "X_train_lem.shape: (15282, 34238)\n"
     ]
    }
   ],
   "source": [
    "# Vettorizzazione con TF-IDF\n",
    "vectorizer_lem = TfidfVectorizer()\n",
    "\n",
    "X_train_lem = vectorizer_lem.fit_transform(training_set_lem['comment_text'])\n",
    "print(\"X_train_lem.shape: \" + str(X_train_lem.shape))"
   ]
  },
  {
   "cell_type": "code",
   "execution_count": 15,
   "metadata": {},
   "outputs": [],
   "source": [
    "cl_lem = RandomForestClassifier(n_estimators=1000, random_state=24, verbose=1)\n",
    "model_filename = \"rf_classifier_1000_lem.pkl\""
   ]
  },
  {
   "cell_type": "code",
   "execution_count": null,
   "metadata": {},
   "outputs": [],
   "source": [
    "# Addestramento sul Dataset lemmatizzato\n",
    "print(\"Training di RF_1000 sul Dataset 'Lemmatizzato'...\")\n",
    "start = datetime.now()\n",
    "cl_lem.fit(X=X_train_lem, y=y_train)\n",
    "end = datetime.now()\n",
    "print(\"Training completato! Tempo impiegato: \" + str(end-start))\n",
    "\n",
    "with open(model_filename, 'wb') as f:\n",
    "    pickle.dump(cl_lem, f)"
   ]
  },
  {
   "cell_type": "code",
   "execution_count": 16,
   "metadata": {},
   "outputs": [],
   "source": [
    "# Caricamento del Modello pre-addestrato\n",
    "with open(model_filename, 'rb') as f:\n",
    "    cl_lem = pickle.load(f)"
   ]
  },
  {
   "cell_type": "markdown",
   "metadata": {},
   "source": [
    "## Testing"
   ]
  },
  {
   "cell_type": "code",
   "execution_count": 17,
   "metadata": {},
   "outputs": [],
   "source": [
    "test_data_lem = pd.read_csv(\"./../../datasets/test_set_lemmatized.csv\")\n",
    "test_data_lem.dropna(inplace=True)\n",
    "\n",
    "test_set_lem = test_data_lem[test_data_lem['toxic'] != -1]\n",
    "exp_set_lem = test_data_lem[test_data_lem['toxic'] == -1]"
   ]
  },
  {
   "cell_type": "code",
   "execution_count": 18,
   "metadata": {},
   "outputs": [
    {
     "name": "stdout",
     "output_type": "stream",
     "text": [
      "X_test_lem.shape: (63842, 34238)\n"
     ]
    }
   ],
   "source": [
    "X_test_lem = vectorizer_lem.transform(test_set_lem['comment_text'])\n",
    "print(\"X_test_lem.shape: \" + str(X_test_lem.shape))"
   ]
  },
  {
   "cell_type": "code",
   "execution_count": 19,
   "metadata": {},
   "outputs": [
    {
     "name": "stderr",
     "output_type": "stream",
     "text": [
      "[Parallel(n_jobs=1)]: Done  49 tasks      | elapsed:    1.4s\n",
      "[Parallel(n_jobs=1)]: Done 199 tasks      | elapsed:    5.7s\n",
      "[Parallel(n_jobs=1)]: Done 449 tasks      | elapsed:   13.2s\n",
      "[Parallel(n_jobs=1)]: Done 799 tasks      | elapsed:   23.5s\n"
     ]
    },
    {
     "name": "stdout",
     "output_type": "stream",
     "text": [
      "Accuracy: 0.9022430374988252\n",
      "Precision: 0.48802115743621655\n",
      "Recall: 0.5153606045671102\n",
      "F-Measure: 0.5013184178985218\n"
     ]
    }
   ],
   "source": [
    "y_pred_lem = cl_lem.predict(X_test_lem)\n",
    "print(\"Accuracy: \" + str(accuracy_score(y_test, y_pred_lem)))\n",
    "print(\"Precision: \" + str(precision_score(y_test, y_pred_lem)))\n",
    "print(\"Recall: \" + str(recall_score(y_test, y_pred_lem)))\n",
    "print(\"F-Measure: \" + str(f1_score(y_test, y_pred_lem)))"
   ]
  },
  {
   "cell_type": "code",
   "execution_count": 20,
   "metadata": {},
   "outputs": [
    {
     "data": {
      "image/png": "[encoded data removed]",
      "text/plain": [
       "<Figure size 640x480 with 2 Axes>"
      ]
     },
     "metadata": {},
     "output_type": "display_data"
    }
   ],
   "source": [
    "cm = confusion_matrix(y_test, y_pred_lem, labels=cl_lem.classes_)\n",
    "disp = ConfusionMatrixDisplay(confusion_matrix=cm, display_labels=cl_lem.classes_)\n",
    "disp.plot()\n",
    "plt.show()"
   ]
  },
  {
   "cell_type": "code",
   "execution_count": 21,
   "metadata": {},
   "outputs": [
    {
     "name": "stderr",
     "output_type": "stream",
     "text": [
      "[Parallel(n_jobs=1)]: Done  49 tasks      | elapsed:    1.4s\n",
      "[Parallel(n_jobs=1)]: Done 199 tasks      | elapsed:    5.8s\n",
      "[Parallel(n_jobs=1)]: Done 449 tasks      | elapsed:   13.1s\n",
      "[Parallel(n_jobs=1)]: Done 799 tasks      | elapsed:   23.5s\n"
     ]
    },
    {
     "name": "stdout",
     "output_type": "stream",
     "text": [
      "ROC-AUC Score: 0.9127451082041476\n"
     ]
    }
   ],
   "source": [
    "y_score_lem = cl_lem.predict_proba(X_test_lem)[:, 1]\n",
    "print(\"ROC-AUC Score:\", roc_auc_score(y_test, y_score_lem))"
   ]
  }
 ],
 "metadata": {
  "kernelspec": {
   "display_name": "DeepLearning",
   "language": "python",
   "name": "python3"
  },
  "language_info": {
   "codemirror_mode": {
    "name": "ipython",
    "version": 3
   },
   "file_extension": ".py",
   "mimetype": "text/x-python",
   "name": "python",
   "nbconvert_exporter": "python",
   "pygments_lexer": "ipython3",
   "version": "3.11.7"
  }
 },
 "nbformat": 4,
 "nbformat_minor": 2
}
