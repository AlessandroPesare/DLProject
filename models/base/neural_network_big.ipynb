{
 "cells": [
  {
   "cell_type": "markdown",
   "metadata": {},
   "source": [
    "# Neural Network Classifier x Toxic Content Detection\n",
    "Il presente Notebook mostra l'addestramento ed il testing di un Classificatore basato su Neural network per il task di Toxic Content Detection.\n",
    "\n",
    "I dati sono stati processati come segue:\n",
    "1. Pulizia del testo (si veda, 'dataset_preprocessing.py')\n",
    "2. Lemmatizzazione con NLTK\n",
    "3. Vettorizzazione con TF-IDF"
   ]
  },
  {
   "cell_type": "code",
   "execution_count": 1,
   "metadata": {},
   "outputs": [
    {
     "name": "stderr",
     "output_type": "stream",
     "text": [
      "C:\\Users\\Riccardo De Cesaris\\AppData\\Local\\Temp\\ipykernel_24304\\2017852653.py:1: DeprecationWarning: \n",
      "Pyarrow will become a required dependency of pandas in the next major release of pandas (pandas 3.0),\n",
      "(to allow more performant data types, such as the Arrow string type, and better interoperability with other libraries)\n",
      "but was not found to be installed on your system.\n",
      "If this would cause problems for you,\n",
      "please provide us feedback at https://github.com/pandas-dev/pandas/issues/54466\n",
      "        \n",
      "  import pandas as pd\n"
     ]
    }
   ],
   "source": [
    "import pandas as pd\n",
    "import pickle\n",
    "import nltk\n",
    "import re\n",
    "import matplotlib.pyplot as plt\n",
    "import numpy as np\n",
    "from nltk.tokenize import word_tokenize\n",
    "from nltk.corpus import wordnet\n",
    "from nltk.stem import WordNetLemmatizer\n",
    "from sklearn.feature_extraction.text import TfidfVectorizer\n",
    "import tensorflow as tf\n",
    "from tensorflow.keras.models import Sequential\n",
    "from tensorflow.keras.models import Model\n",
    "from tensorflow.keras.layers import Input, Conv1D, MaxPooling1D, Flatten, Dense,Reshape\n",
    "from tensorflow.keras.optimizers.legacy import Adam as Adam_legacy\n",
    "from datetime import datetime\n",
    "import matplotlib.pyplot as plt\n",
    "from sklearn.metrics import accuracy_score, precision_score, recall_score, f1_score, confusion_matrix, ConfusionMatrixDisplay"
   ]
  },
  {
   "cell_type": "markdown",
   "metadata": {},
   "source": [
    "All'interno del Notebook saranno addestrate due Reti Neurali, una sul Dataset \"non-Lemmatizzato\" e l'altra sul Dataset \"Lemmatizzato\"."
   ]
  },
  {
   "cell_type": "code",
   "execution_count": 2,
   "metadata": {},
   "outputs": [
    {
     "name": "stdout",
     "output_type": "stream",
     "text": [
      "GPU disponibile, TensorFlow sta utilizzando la GPU.\n"
     ]
    }
   ],
   "source": [
    "# Verifica il dispositivo attualmente utilizzato da TensorFlow\n",
    "device_name = tf.test.gpu_device_name()\n",
    "\n",
    "if device_name == '/device:GPU:0':\n",
    "    print('GPU disponibile, TensorFlow sta utilizzando la GPU.')\n",
    "else:\n",
    "    print('GPU non disponibile, TensorFlow sta utilizzando la CPU.')"
   ]
  },
  {
   "cell_type": "markdown",
   "metadata": {},
   "source": [
    "## Funzioni di Supporto"
   ]
  },
  {
   "cell_type": "code",
   "execution_count": 3,
   "metadata": {},
   "outputs": [],
   "source": [
    "# Pulizia della Frase\n",
    "def clean_phrases(phrases):\n",
    "    new_phrases = list()\n",
    "    for phrase in phrases:\n",
    "        # Rimozione di \"\\r\" e \"\\n\"\n",
    "        phrase = re.sub(r'[\\r\\n]+', '', phrase)\n",
    "        # Rimozione di sequenze di \":\" (esempio, \"::::\")\n",
    "        phrase = re.sub(r'::+', '', phrase)\n",
    "        # Rimozione di sequenze di \"=\" (esempio, \"====\")\n",
    "        phrase = re.sub(r'==+', '', phrase)\n",
    "        # Rimozione di sequenze di \"*\" (esempio, \"**\")\n",
    "        phrase = re.sub(r'\\*\\*+', '', phrase)\n",
    "        # Rimozione di sequenze numeriche in formato di indirizzi IP (esempio, \"192.168.1.1\")\n",
    "        phrase = re.sub(r'\\b(?:\\d{1,3}\\.){3}\\d{1,3}\\b', '', phrase)\n",
    "        # Rimozione di contenuto compreso tra Parentesi Quadre (esempio, \"[contentContent]\")\n",
    "        phrase = re.sub(r'\\[[^\\[\\]]+\\]', '', phrase)\n",
    "        # Rimozione di Apici, sia singoli che doppi\n",
    "        phrase = re.sub(r\"['\\\"]\", \"\", phrase)\n",
    "\n",
    "        ## La rimozione di particolari caratteri o sequenze di caratteri può portare alla fusione di due token diversi\n",
    "\n",
    "        # Splitting di token in cui compare un segno di interpuzione forte (\"?\", \"!\" e \".\") seguito da una lettera maiuscola\n",
    "        phrase = re.sub(r'([?!\\.])([A-Z]\\w*)', r'\\1 \\2', phrase)\n",
    "        # Splitting di parole fuse (esempio, \"parolaParola\" diventa \"parola Parola\")\n",
    "        phrase = re.sub(r'([a-z])([A-Z])', r'\\1 \\2', phrase)\n",
    "\n",
    "        tokens = word_tokenize(phrase)\n",
    "        lowercase_tokens = [token.lower() for token in tokens if token.isalpha()]\n",
    "        new_phrases.append(' '.join(lowercase_tokens))\n",
    "    \n",
    "    return new_phrases"
   ]
  },
  {
   "cell_type": "code",
   "execution_count": 4,
   "metadata": {},
   "outputs": [],
   "source": [
    "# Lemmatizzazione della Frase\n",
    "def get_wordnet_pos(tag):\n",
    "    if tag.startswith('J'):\n",
    "        return wordnet.ADJ\n",
    "    elif tag.startswith('V'):\n",
    "        return wordnet.VERB\n",
    "    elif tag.startswith('N'):\n",
    "        return wordnet.NOUN\n",
    "    elif tag.startswith('R'):\n",
    "        return wordnet.ADV\n",
    "    else:\n",
    "        return wordnet.NOUN\n",
    "\n",
    "def lemmatize_text(text):\n",
    "    lemmatizer = WordNetLemmatizer()\n",
    "    tokens = word_tokenize(text)\n",
    "    tagged_tokens = nltk.pos_tag(tokens)\n",
    "    lemmatized_text = []\n",
    "    for token, tag in tagged_tokens:\n",
    "        pos = get_wordnet_pos(tag)\n",
    "        lemmatized_token = lemmatizer.lemmatize(token, pos=pos)\n",
    "        lemmatized_text.append(lemmatized_token)\n",
    "    return ' '.join(lemmatized_text)"
   ]
  },
  {
   "cell_type": "markdown",
   "metadata": {},
   "source": [
    "# Neural Network, Dataset \"non-Lemmatizzato\""
   ]
  },
  {
   "cell_type": "markdown",
   "metadata": {},
   "source": [
    "## Addestramento"
   ]
  },
  {
   "cell_type": "code",
   "execution_count": 5,
   "metadata": {},
   "outputs": [
    {
     "name": "stdout",
     "output_type": "stream",
     "text": [
      "Numero di Frasi nel Training Set: 15282\n",
      "Numero Frasi 'toxic' nel Training Set: 3058\n",
      "Numero Frasi 'not-toxic' nel Training Set: 12224\n"
     ]
    }
   ],
   "source": [
    "training_set = pd.read_csv(\"./../../datasets/training_set.csv\")\n",
    "print(\"Numero di Frasi nel Training Set:\", len(training_set))\n",
    "print(\"Numero Frasi 'toxic' nel Training Set:\", len(training_set[training_set['toxic'] == 1]))\n",
    "print(\"Numero Frasi 'not-toxic' nel Training Set:\", len(training_set[training_set['toxic'] == 0]))"
   ]
  },
  {
   "cell_type": "code",
   "execution_count": 6,
   "metadata": {},
   "outputs": [],
   "source": [
    "y_train = training_set['toxic']"
   ]
  },
  {
   "cell_type": "code",
   "execution_count": 7,
   "metadata": {},
   "outputs": [
    {
     "name": "stdout",
     "output_type": "stream",
     "text": [
      "X_train.shape: (15282, 39767)\n"
     ]
    }
   ],
   "source": [
    "# Vettorizzazione con TF-IDF\n",
    "vectorizer = TfidfVectorizer(dtype=np.float32)\n",
    "\n",
    "X_train = vectorizer.fit_transform(training_set['comment_text'])\n",
    "print(\"X_train.shape: \" + str(X_train.shape))"
   ]
  },
  {
   "cell_type": "code",
   "execution_count": 8,
   "metadata": {},
   "outputs": [],
   "source": [
    "model = tf.keras.models.Sequential(\n",
    "    [\n",
    "        tf.keras.layers.Input(shape=(X_train.shape[1],), dtype='float'),\n",
    "        tf.keras.layers.Reshape((X_train.shape[1],1)),\n",
    "        tf.keras.layers.Conv1D(filters=32, kernel_size=5, strides=2, padding='same', activation='relu'),\n",
    "        tf.keras.layers.MaxPool1D(pool_size=2, padding='same'),\n",
    "        tf.keras.layers.Conv1D(filters=32, kernel_size=3, padding='same', activation='relu'),\n",
    "        tf.keras.layers.MaxPool1D(pool_size=2, padding='same'),\n",
    "        tf.keras.layers.Conv1D(filters=16, kernel_size=5, padding='same', activation='relu'),\n",
    "        tf.keras.layers.Conv1D(filters=8, kernel_size=5, padding='same', activation='relu'),\n",
    "        tf.keras.layers.Conv1D(filters=4, kernel_size=5, padding='same', activation='relu'),\n",
    "        tf.keras.layers.Flatten(),\n",
    "        tf.keras.layers.Dense(140, activation='relu'),\n",
    "        tf.keras.layers.Dropout(0.5),\n",
    "        tf.keras.layers.Dense(12, activation='relu'),\n",
    "        tf.keras.layers.Dropout(0.5),\n",
    "        tf.keras.layers.Dense(1,activation='sigmoid')\n",
    "    ]\n",
    ")"
   ]
  },
  {
   "cell_type": "code",
   "execution_count": 9,
   "metadata": {},
   "outputs": [
    {
     "name": "stdout",
     "output_type": "stream",
     "text": [
      "Model: \"sequential\"\n",
      "_________________________________________________________________\n",
      " Layer (type)                Output Shape              Param #   \n",
      "=================================================================\n",
      " reshape (Reshape)           (None, 39767, 1)          0         \n",
      "                                                                 \n",
      " conv1d (Conv1D)             (None, 19884, 32)         192       \n",
      "                                                                 \n",
      " max_pooling1d (MaxPooling1D  (None, 9942, 32)         0         \n",
      " )                                                               \n",
      "                                                                 \n",
      " conv1d_1 (Conv1D)           (None, 9942, 32)          3104      \n",
      "                                                                 \n",
      " max_pooling1d_1 (MaxPooling  (None, 4971, 32)         0         \n",
      " 1D)                                                             \n",
      "                                                                 \n",
      " conv1d_2 (Conv1D)           (None, 4971, 16)          2576      \n",
      "                                                                 \n",
      " conv1d_3 (Conv1D)           (None, 4971, 8)           648       \n",
      "                                                                 \n",
      " conv1d_4 (Conv1D)           (None, 4971, 4)           164       \n",
      "                                                                 \n",
      " flatten (Flatten)           (None, 19884)             0         \n",
      "                                                                 \n",
      " dense (Dense)               (None, 140)               2783900   \n",
      "                                                                 \n",
      " dropout (Dropout)           (None, 140)               0         \n",
      "                                                                 \n",
      " dense_1 (Dense)             (None, 12)                1692      \n",
      "                                                                 \n",
      " dropout_1 (Dropout)         (None, 12)                0         \n",
      "                                                                 \n",
      " dense_2 (Dense)             (None, 1)                 13        \n",
      "                                                                 \n",
      "=================================================================\n",
      "Total params: 2,792,289\n",
      "Trainable params: 2,792,289\n",
      "Non-trainable params: 0\n",
      "_________________________________________________________________\n"
     ]
    }
   ],
   "source": [
    "model.summary()\n",
    "model.compile(optimizer='adam', loss='binary_crossentropy', metrics=['accuracy'])"
   ]
  },
  {
   "cell_type": "code",
   "execution_count": 10,
   "metadata": {},
   "outputs": [
    {
     "name": "stdout",
     "output_type": "stream",
     "text": [
      "Training della Rete Neurale sul Dataset 'non-Lemmatizzato'...\n",
      "Epoch 1/10\n",
      "478/478 [==============================] - 20s 27ms/step - loss: 0.3830 - accuracy: 0.8484\n",
      "Epoch 2/10\n",
      "478/478 [==============================] - 13s 27ms/step - loss: 0.2218 - accuracy: 0.9180\n",
      "Epoch 3/10\n",
      "478/478 [==============================] - 13s 27ms/step - loss: 0.1451 - accuracy: 0.9434\n",
      "Epoch 4/10\n",
      "478/478 [==============================] - 13s 27ms/step - loss: 0.1041 - accuracy: 0.9596\n",
      "Epoch 5/10\n",
      "478/478 [==============================] - 13s 27ms/step - loss: 0.0694 - accuracy: 0.9700\n",
      "Epoch 6/10\n",
      "478/478 [==============================] - 13s 27ms/step - loss: 0.0560 - accuracy: 0.9755\n",
      "Epoch 7/10\n",
      "478/478 [==============================] - 13s 27ms/step - loss: 0.0399 - accuracy: 0.9822\n",
      "Epoch 8/10\n",
      "478/478 [==============================] - 13s 27ms/step - loss: 0.0461 - accuracy: 0.9854\n",
      "Epoch 9/10\n",
      "478/478 [==============================] - 13s 27ms/step - loss: 0.0308 - accuracy: 0.9912\n",
      "Epoch 10/10\n",
      "478/478 [==============================] - 13s 27ms/step - loss: 0.0263 - accuracy: 0.9920\n",
      "Training completato! Tempo impiegato: 0:02:16.612360\n"
     ]
    }
   ],
   "source": [
    "X_train = X_train.toarray()\n",
    "\n",
    "# Addestramento sul Dataset non-lemmatizzato\n",
    "print(\"Training della Rete Neurale sul Dataset 'non-Lemmatizzato'...\")\n",
    "start = datetime.now()\n",
    "model.fit(X_train, y_train,epochs=10, batch_size=32)\n",
    "end = datetime.now()\n",
    "print(\"Training completato! Tempo impiegato: \" + str(end-start))\n",
    "\n",
    "model.save(\"neural_classifier_big.h5\")"
   ]
  },
  {
   "cell_type": "code",
   "execution_count": 11,
   "metadata": {},
   "outputs": [],
   "source": [
    "model = tf.keras.models.load_model(\"neural_classifier_big.h5\")"
   ]
  },
  {
   "cell_type": "markdown",
   "metadata": {},
   "source": [
    "## Testing"
   ]
  },
  {
   "cell_type": "code",
   "execution_count": 12,
   "metadata": {},
   "outputs": [
    {
     "name": "stdout",
     "output_type": "stream",
     "text": [
      "Numero di Frasi nel Test Set: 63842\n",
      "Numero Frasi 'toxic' nel Test Set: 6087\n",
      "Numero Frasi 'not-toxic' nel Test Set: 57755\n"
     ]
    }
   ],
   "source": [
    "test_data = pd.read_csv(\"./../../datasets/test_set.csv\")\n",
    "test_data.dropna(inplace=True)\n",
    "\n",
    "test_set = test_data[test_data['toxic'] != -1]\n",
    "exp_set = test_data[test_data['toxic'] == -1]\n",
    "\n",
    "print(\"Numero di Frasi nel Test Set:\", len(test_set))\n",
    "print(\"Numero Frasi 'toxic' nel Test Set:\", len(test_set[test_set['toxic'] == 1]))\n",
    "print(\"Numero Frasi 'not-toxic' nel Test Set:\", len(test_set[test_set['toxic'] == 0]))"
   ]
  },
  {
   "cell_type": "code",
   "execution_count": 13,
   "metadata": {},
   "outputs": [],
   "source": [
    "y_test = test_set['toxic']"
   ]
  },
  {
   "cell_type": "code",
   "execution_count": 14,
   "metadata": {},
   "outputs": [
    {
     "name": "stdout",
     "output_type": "stream",
     "text": [
      "X_test.shape: (63842, 39767)\n"
     ]
    }
   ],
   "source": [
    "X_test = vectorizer.transform(test_set['comment_text'])\n",
    "print(\"X_test.shape: \" + str(X_test.shape))"
   ]
  },
  {
   "cell_type": "code",
   "execution_count": 15,
   "metadata": {},
   "outputs": [
    {
     "name": "stdout",
     "output_type": "stream",
     "text": [
      "79/79 [==============================] - 1s 14ms/step\n",
      "79/79 [==============================] - 1s 9ms/step\n",
      "79/79 [==============================] - 1s 9ms/step\n",
      "79/79 [==============================] - 1s 10ms/step\n",
      "79/79 [==============================] - 1s 9ms/step\n",
      "79/79 [==============================] - 1s 9ms/step\n",
      "79/79 [==============================] - 1s 9ms/step\n",
      "79/79 [==============================] - 1s 9ms/step\n",
      "79/79 [==============================] - 1s 9ms/step\n",
      "79/79 [==============================] - 1s 9ms/step\n",
      "79/79 [==============================] - 1s 9ms/step\n",
      "79/79 [==============================] - 1s 10ms/step\n",
      "79/79 [==============================] - 1s 9ms/step\n",
      "79/79 [==============================] - 1s 9ms/step\n",
      "79/79 [==============================] - 1s 9ms/step\n",
      "79/79 [==============================] - 1s 9ms/step\n",
      "79/79 [==============================] - 1s 9ms/step\n",
      "79/79 [==============================] - 1s 9ms/step\n",
      "79/79 [==============================] - 1s 9ms/step\n",
      "79/79 [==============================] - 1s 9ms/step\n",
      "79/79 [==============================] - 1s 9ms/step\n",
      "79/79 [==============================] - 1s 9ms/step\n",
      "79/79 [==============================] - 1s 9ms/step\n",
      "79/79 [==============================] - 1s 9ms/step\n",
      "79/79 [==============================] - 1s 9ms/step\n",
      "42/42 [==============================] - 0s 10ms/step\n"
     ]
    }
   ],
   "source": [
    "i = 0\n",
    "predictions = list()\n",
    "while i < X_test.shape[0]:\n",
    "    to_submit = X_test[i:i+2500]\n",
    "    to_test = to_submit.toarray()\n",
    "    y_pred = model.predict(to_test)\n",
    "    predictions.append(y_pred)\n",
    "    i += 2500\n",
    "\n",
    "    del to_submit\n",
    "    del to_test\n",
    "    del y_pred"
   ]
  },
  {
   "cell_type": "code",
   "execution_count": 16,
   "metadata": {},
   "outputs": [],
   "source": [
    "y_pred = np.concatenate(predictions)\n",
    "y_pred.shape\n",
    "y_pred_binary = np.where(y_pred > 0.5, 1, 0)"
   ]
  },
  {
   "cell_type": "code",
   "execution_count": 17,
   "metadata": {},
   "outputs": [
    {
     "name": "stdout",
     "output_type": "stream",
     "text": [
      "Accuracy: 0.8966041164123931\n",
      "Precision: 0.4748778103616813\n",
      "Recall: 0.7980942993264334\n",
      "F-Measure: 0.5954525954525954\n"
     ]
    }
   ],
   "source": [
    "#Metriche: Accuracy,Precision,Recall\n",
    "print(\"Accuracy: \" + str(accuracy_score(y_test, y_pred_binary)))\n",
    "print(\"Precision: \" + str(precision_score(y_test, y_pred_binary)))\n",
    "print(\"Recall: \" + str(recall_score(y_test, y_pred_binary)))\n",
    "print(\"F-Measure: \" + str(f1_score(y_test, y_pred_binary)))"
   ]
  },
  {
   "cell_type": "code",
   "execution_count": 18,
   "metadata": {},
   "outputs": [
    {
     "data": {
      "image/png": "[encoded data removed]",
      "text/plain": [
       "<Figure size 640x480 with 2 Axes>"
      ]
     },
     "metadata": {},
     "output_type": "display_data"
    }
   ],
   "source": [
    "cm = confusion_matrix(y_test, y_pred_binary, labels=[0,1])\n",
    "disp = ConfusionMatrixDisplay(confusion_matrix=cm, display_labels=[0,1])\n",
    "disp.plot()\n",
    "plt.show()"
   ]
  },
  {
   "cell_type": "markdown",
   "metadata": {},
   "source": [
    "## Generazione delle Explanations"
   ]
  },
  {
   "cell_type": "code",
   "execution_count": 19,
   "metadata": {},
   "outputs": [],
   "source": [
    "# Utilizzare exp_set -> da vettorizzare con 'vectorizer' e sottoporre a 'cl'\n",
    "# Implementare LIME"
   ]
  },
  {
   "cell_type": "markdown",
   "metadata": {},
   "source": [
    "# Neural Network, Dataset \"Lemmatizzato\""
   ]
  },
  {
   "cell_type": "code",
   "execution_count": 30,
   "metadata": {},
   "outputs": [],
   "source": [
    "tf.keras.backend.clear_session()"
   ]
  },
  {
   "cell_type": "markdown",
   "metadata": {},
   "source": [
    "## Addestramento"
   ]
  },
  {
   "cell_type": "code",
   "execution_count": 21,
   "metadata": {},
   "outputs": [],
   "source": [
    "training_set_lem = pd.read_csv(\"./../../datasets/training_set_lemmatized.csv\")"
   ]
  },
  {
   "cell_type": "code",
   "execution_count": 22,
   "metadata": {},
   "outputs": [
    {
     "name": "stdout",
     "output_type": "stream",
     "text": [
      "X_train_lem.shape: (15282, 34238)\n"
     ]
    }
   ],
   "source": [
    "# Vettorizzazione con TF-IDF\n",
    "vectorizer_lem = TfidfVectorizer(dtype=np.float32)\n",
    "\n",
    "X_train_lem = vectorizer_lem.fit_transform(training_set_lem['comment_text'])\n",
    "print(\"X_train_lem.shape: \" + str(X_train_lem.shape))"
   ]
  },
  {
   "cell_type": "code",
   "execution_count": 23,
   "metadata": {},
   "outputs": [],
   "source": [
    "model_lem = tf.keras.models.Sequential(\n",
    "    [\n",
    "        tf.keras.layers.Input(shape=(X_train_lem.shape[1],), dtype='float'),\n",
    "        tf.keras.layers.Reshape((X_train_lem.shape[1],1)),\n",
    "        tf.keras.layers.Conv1D(filters=32, kernel_size=5, strides=2, padding='same', activation='relu'),\n",
    "        tf.keras.layers.MaxPool1D(pool_size=2, padding='same'),\n",
    "        tf.keras.layers.Conv1D(filters=32, kernel_size=3, padding='same', activation='relu'),\n",
    "        tf.keras.layers.MaxPool1D(pool_size=2, padding='same'),\n",
    "        tf.keras.layers.Conv1D(filters=16, kernel_size=5, padding='same', activation='relu'),\n",
    "        tf.keras.layers.Conv1D(filters=8, kernel_size=5, padding='same', activation='relu'),\n",
    "        tf.keras.layers.Conv1D(filters=4, kernel_size=5, padding='same', activation='relu'),\n",
    "        tf.keras.layers.Flatten(),\n",
    "        tf.keras.layers.Dense(140, activation='relu'),\n",
    "        tf.keras.layers.Dropout(0.5),\n",
    "        tf.keras.layers.Dense(12, activation='relu'),\n",
    "        tf.keras.layers.Dropout(0.5),\n",
    "        tf.keras.layers.Dense(1,activation='sigmoid')\n",
    "    ]\n",
    ")"
   ]
  },
  {
   "cell_type": "code",
   "execution_count": 24,
   "metadata": {},
   "outputs": [
    {
     "name": "stdout",
     "output_type": "stream",
     "text": [
      "Model: \"sequential\"\n",
      "_________________________________________________________________\n",
      " Layer (type)                Output Shape              Param #   \n",
      "=================================================================\n",
      " reshape (Reshape)           (None, 34238, 1)          0         \n",
      "                                                                 \n",
      " conv1d (Conv1D)             (None, 17119, 32)         192       \n",
      "                                                                 \n",
      " max_pooling1d (MaxPooling1D  (None, 8560, 32)         0         \n",
      " )                                                               \n",
      "                                                                 \n",
      " conv1d_1 (Conv1D)           (None, 8560, 32)          3104      \n",
      "                                                                 \n",
      " max_pooling1d_1 (MaxPooling  (None, 4280, 32)         0         \n",
      " 1D)                                                             \n",
      "                                                                 \n",
      " conv1d_2 (Conv1D)           (None, 4280, 16)          2576      \n",
      "                                                                 \n",
      " conv1d_3 (Conv1D)           (None, 4280, 8)           648       \n",
      "                                                                 \n",
      " conv1d_4 (Conv1D)           (None, 4280, 4)           164       \n",
      "                                                                 \n",
      " flatten (Flatten)           (None, 17120)             0         \n",
      "                                                                 \n",
      " dense (Dense)               (None, 140)               2396940   \n",
      "                                                                 \n",
      " dropout (Dropout)           (None, 140)               0         \n",
      "                                                                 \n",
      " dense_1 (Dense)             (None, 12)                1692      \n",
      "                                                                 \n",
      " dropout_1 (Dropout)         (None, 12)                0         \n",
      "                                                                 \n",
      " dense_2 (Dense)             (None, 1)                 13        \n",
      "                                                                 \n",
      "=================================================================\n",
      "Total params: 2,405,329\n",
      "Trainable params: 2,405,329\n",
      "Non-trainable params: 0\n",
      "_________________________________________________________________\n"
     ]
    }
   ],
   "source": [
    "model_lem.summary()\n",
    "model_lem.compile(optimizer='adam', loss='binary_crossentropy', metrics=['accuracy'])"
   ]
  },
  {
   "cell_type": "code",
   "execution_count": 25,
   "metadata": {},
   "outputs": [
    {
     "name": "stdout",
     "output_type": "stream",
     "text": [
      "Training della Rete Neurale sul Dataset 'non-Lemmatizzato'...\n",
      "Epoch 1/10\n",
      "478/478 [==============================] - 12s 23ms/step - loss: 0.3902 - accuracy: 0.8473\n",
      "Epoch 2/10\n",
      "478/478 [==============================] - 11s 23ms/step - loss: 0.2338 - accuracy: 0.9119\n",
      "Epoch 3/10\n",
      "478/478 [==============================] - 11s 23ms/step - loss: 0.1611 - accuracy: 0.9437\n",
      "Epoch 4/10\n",
      "478/478 [==============================] - 11s 23ms/step - loss: 0.1221 - accuracy: 0.9570\n",
      "Epoch 5/10\n",
      "478/478 [==============================] - 11s 23ms/step - loss: 0.0891 - accuracy: 0.9686\n",
      "Epoch 6/10\n",
      "478/478 [==============================] - 11s 22ms/step - loss: 0.0667 - accuracy: 0.9764\n",
      "Epoch 7/10\n",
      "478/478 [==============================] - 11s 22ms/step - loss: 0.0503 - accuracy: 0.9823\n",
      "Epoch 8/10\n",
      "478/478 [==============================] - 11s 22ms/step - loss: 0.0422 - accuracy: 0.9830\n",
      "Epoch 9/10\n",
      "478/478 [==============================] - 11s 22ms/step - loss: 0.0373 - accuracy: 0.9855\n",
      "Epoch 10/10\n",
      "478/478 [==============================] - 11s 22ms/step - loss: 0.0339 - accuracy: 0.9854\n",
      "Training completato! Tempo impiegato: 0:01:50.496324\n"
     ]
    }
   ],
   "source": [
    "X_train_lem = X_train_lem.toarray()\n",
    "\n",
    "# Addestramento sul Dataset non-lemmatizzato\n",
    "print(\"Training della Rete Neurale sul Dataset 'non-Lemmatizzato'...\")\n",
    "start = datetime.now()\n",
    "model_lem.fit(X_train_lem, y_train,epochs=10, batch_size=32)\n",
    "end = datetime.now()\n",
    "print(\"Training completato! Tempo impiegato: \" + str(end-start))\n",
    "\n",
    "model_lem.save(\"neural_classifier_big_lem.h5\")"
   ]
  },
  {
   "cell_type": "code",
   "execution_count": 31,
   "metadata": {},
   "outputs": [],
   "source": [
    "model_lem = tf.keras.models.load_model(\"neural_classifier_big_lem.h5\")"
   ]
  },
  {
   "cell_type": "markdown",
   "metadata": {},
   "source": [
    "## Testing"
   ]
  },
  {
   "cell_type": "code",
   "execution_count": 32,
   "metadata": {},
   "outputs": [],
   "source": [
    "test_data_lem = pd.read_csv(\"./../../datasets/test_set_lemmatized.csv\")\n",
    "test_data_lem.dropna(inplace=True)\n",
    "\n",
    "test_set_lem = test_data_lem[test_data_lem['toxic'] != -1]\n",
    "exp_set_lem = test_data_lem[test_data_lem['toxic'] == -1]"
   ]
  },
  {
   "cell_type": "code",
   "execution_count": 33,
   "metadata": {},
   "outputs": [
    {
     "name": "stdout",
     "output_type": "stream",
     "text": [
      "X_test_lem.shape: (63842, 34238)\n"
     ]
    }
   ],
   "source": [
    "X_test_lem = vectorizer_lem.transform(test_set_lem['comment_text'])\n",
    "print(\"X_test_lem.shape: \" + str(X_test_lem.shape))"
   ]
  },
  {
   "cell_type": "code",
   "execution_count": 34,
   "metadata": {},
   "outputs": [
    {
     "name": "stdout",
     "output_type": "stream",
     "text": [
      "79/79 [==============================] - 1s 12ms/step\n",
      "79/79 [==============================] - 1s 8ms/step\n",
      "79/79 [==============================] - 1s 8ms/step\n",
      "79/79 [==============================] - 1s 9ms/step\n",
      "79/79 [==============================] - 1s 8ms/step\n",
      "79/79 [==============================] - 1s 8ms/step\n",
      "79/79 [==============================] - 1s 8ms/step\n",
      "79/79 [==============================] - 1s 8ms/step\n",
      "79/79 [==============================] - 1s 8ms/step\n",
      "79/79 [==============================] - 1s 8ms/step\n",
      "79/79 [==============================] - 1s 8ms/step\n",
      "79/79 [==============================] - 1s 11ms/step\n",
      "79/79 [==============================] - 1s 8ms/step\n",
      "79/79 [==============================] - 1s 8ms/step\n",
      "79/79 [==============================] - 1s 9ms/step\n",
      "79/79 [==============================] - 1s 8ms/step\n",
      "79/79 [==============================] - 1s 8ms/step\n",
      "79/79 [==============================] - 1s 8ms/step\n",
      "79/79 [==============================] - 1s 8ms/step\n",
      "79/79 [==============================] - 1s 8ms/step\n",
      "79/79 [==============================] - 1s 11ms/step\n",
      "79/79 [==============================] - 1s 8ms/step\n",
      "79/79 [==============================] - 1s 8ms/step\n",
      "79/79 [==============================] - 1s 8ms/step\n",
      "79/79 [==============================] - 1s 8ms/step\n",
      "42/42 [==============================] - 0s 9ms/step\n"
     ]
    }
   ],
   "source": [
    "i = 0\n",
    "predictions = list()\n",
    "while i < X_test.shape[0]:\n",
    "    to_submit = X_test_lem[i:i+2500]\n",
    "    to_test = to_submit.toarray()\n",
    "    y_pred = model_lem.predict(to_test)\n",
    "    predictions.append(y_pred)\n",
    "    i += 2500\n",
    "\n",
    "    del to_submit\n",
    "    del to_test\n",
    "    del y_pred"
   ]
  },
  {
   "cell_type": "code",
   "execution_count": 35,
   "metadata": {},
   "outputs": [],
   "source": [
    "y_pred_lem = np.concatenate(predictions)\n",
    "y_pred_lem.shape\n",
    "y_pred_binary_lem = np.where(y_pred_lem > 0.5, 1, 0)"
   ]
  },
  {
   "cell_type": "code",
   "execution_count": 36,
   "metadata": {},
   "outputs": [
    {
     "name": "stdout",
     "output_type": "stream",
     "text": [
      "Accuracy: 0.885655211302904\n",
      "Precision: 0.4460553233122832\n",
      "Recall: 0.8238869722359126\n",
      "F-Measure: 0.5787651471436814\n"
     ]
    }
   ],
   "source": [
    "#Metriche: Accuracy,Precision,Recall\n",
    "print(\"Accuracy: \" + str(accuracy_score(y_test, y_pred_binary_lem)))\n",
    "print(\"Precision: \" + str(precision_score(y_test, y_pred_binary_lem)))\n",
    "print(\"Recall: \" + str(recall_score(y_test, y_pred_binary_lem)))\n",
    "print(\"F-Measure: \" + str(f1_score(y_test, y_pred_binary_lem)))"
   ]
  },
  {
   "cell_type": "code",
   "execution_count": 37,
   "metadata": {},
   "outputs": [
    {
     "data": {
      "image/png": "[encoded data removed]",
      "text/plain": [
       "<Figure size 640x480 with 2 Axes>"
      ]
     },
     "metadata": {},
     "output_type": "display_data"
    }
   ],
   "source": [
    "cm = confusion_matrix(y_test, y_pred_binary_lem, labels=[0,1])\n",
    "disp = ConfusionMatrixDisplay(confusion_matrix=cm, display_labels=[0,1])\n",
    "disp.plot()\n",
    "plt.show()"
   ]
  },
  {
   "cell_type": "markdown",
   "metadata": {},
   "source": [
    "## Generazione delle Explanations"
   ]
  },
  {
   "cell_type": "code",
   "execution_count": 38,
   "metadata": {},
   "outputs": [],
   "source": [
    "# Utilizzare exp_set -> da vettorizzare con 'vectorizer' e sottoporre a 'cl'\n",
    "# Implementare LIME"
   ]
  }
 ],
 "metadata": {
  "kernelspec": {
   "display_name": "DL_CUDA",
   "language": "python",
   "name": "python3"
  },
  "language_info": {
   "codemirror_mode": {
    "name": "ipython",
    "version": 3
   },
   "file_extension": ".py",
   "mimetype": "text/x-python",
   "name": "python",
   "nbconvert_exporter": "python",
   "pygments_lexer": "ipython3",
   "version": "3.10.13"
  }
 },
 "nbformat": 4,
 "nbformat_minor": 2
}
