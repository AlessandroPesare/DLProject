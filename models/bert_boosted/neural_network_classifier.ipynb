{
 "cells": [
  {
   "cell_type": "markdown",
   "metadata": {},
   "source": [
    "# NN Classifier (BERT-Boosted) x Toxic Content Detection\n",
    "Il presente Notebook mostra l'addestramento ed il testing di un Classificatore basato su una rete Fully connected per il task di Toxic Content Detection.\n",
    "\n",
    "I dati sono stati processati come segue:\n",
    "1. Pulizia del testo (si veda 'dataset_preprocessing.py')\n",
    "2. Estrazione delle Features mediante BERT (si veda 'feature_extraction_bert_windows.ipynb'/'feature_extraction_bert_mac.ipynb')"
   ]
  },
  {
   "cell_type": "code",
   "execution_count": 73,
   "metadata": {},
   "outputs": [],
   "source": [
    "import pandas as pd\n",
    "import numpy as np\n",
    "import pickle\n",
    "import nltk\n",
    "import re\n",
    "import torch\n",
    "import matplotlib.pyplot as plt\n",
    "from transformers import DistilBertTokenizer, DistilBertModel\n",
    "from nltk.tokenize import word_tokenize\n",
    "from keras.models import Sequential\n",
    "from keras.layers import Dense, Dropout\n",
    "from datetime import datetime\n",
    "from sklearn.metrics import accuracy_score,precision_score,recall_score, confusion_matrix, ConfusionMatrixDisplay"
   ]
  },
  {
   "cell_type": "code",
   "execution_count": 74,
   "metadata": {},
   "outputs": [
    {
     "data": {
      "text/html": [
       "<div>\n",
       "<style scoped>\n",
       "    .dataframe tbody tr th:only-of-type {\n",
       "        vertical-align: middle;\n",
       "    }\n",
       "\n",
       "    .dataframe tbody tr th {\n",
       "        vertical-align: top;\n",
       "    }\n",
       "\n",
       "    .dataframe thead th {\n",
       "        text-align: right;\n",
       "    }\n",
       "</style>\n",
       "<table border=\"1\" class=\"dataframe\">\n",
       "  <thead>\n",
       "    <tr style=\"text-align: right;\">\n",
       "      <th></th>\n",
       "      <th>comment_text</th>\n",
       "      <th>toxic</th>\n",
       "    </tr>\n",
       "  </thead>\n",
       "  <tbody>\n",
       "    <tr>\n",
       "      <th>0</th>\n",
       "      <td>cocksucker before you piss around on my work</td>\n",
       "      <td>1</td>\n",
       "    </tr>\n",
       "    <tr>\n",
       "      <th>1</th>\n",
       "      <td>hey what is it talk what is it an exclusive gr...</td>\n",
       "      <td>1</td>\n",
       "    </tr>\n",
       "    <tr>\n",
       "      <th>2</th>\n",
       "      <td>bye dont look come or think of comming back to...</td>\n",
       "      <td>1</td>\n",
       "    </tr>\n",
       "    <tr>\n",
       "      <th>3</th>\n",
       "      <td>you are gay or antisemmitian archangel white t...</td>\n",
       "      <td>1</td>\n",
       "    </tr>\n",
       "    <tr>\n",
       "      <th>4</th>\n",
       "      <td>fuck your filthy mother in the ass dry</td>\n",
       "      <td>1</td>\n",
       "    </tr>\n",
       "    <tr>\n",
       "      <th>...</th>\n",
       "      <td>...</td>\n",
       "      <td>...</td>\n",
       "    </tr>\n",
       "    <tr>\n",
       "      <th>30572</th>\n",
       "      <td>chris i dont know who you are talking to but i...</td>\n",
       "      <td>0</td>\n",
       "    </tr>\n",
       "    <tr>\n",
       "      <th>30573</th>\n",
       "      <td>operation condor is also named a dirty war can...</td>\n",
       "      <td>0</td>\n",
       "    </tr>\n",
       "    <tr>\n",
       "      <th>30574</th>\n",
       "      <td>there is no evidence that this block has anyth...</td>\n",
       "      <td>0</td>\n",
       "    </tr>\n",
       "    <tr>\n",
       "      <th>30575</th>\n",
       "      <td>thanks hey utkarshraj thanks for the kindness ...</td>\n",
       "      <td>0</td>\n",
       "    </tr>\n",
       "    <tr>\n",
       "      <th>30576</th>\n",
       "      <td>from previous revision</td>\n",
       "      <td>0</td>\n",
       "    </tr>\n",
       "  </tbody>\n",
       "</table>\n",
       "<p>30577 rows × 2 columns</p>\n",
       "</div>"
      ],
      "text/plain": [
       "                                            comment_text  toxic\n",
       "0           cocksucker before you piss around on my work      1\n",
       "1      hey what is it talk what is it an exclusive gr...      1\n",
       "2      bye dont look come or think of comming back to...      1\n",
       "3      you are gay or antisemmitian archangel white t...      1\n",
       "4                 fuck your filthy mother in the ass dry      1\n",
       "...                                                  ...    ...\n",
       "30572  chris i dont know who you are talking to but i...      0\n",
       "30573  operation condor is also named a dirty war can...      0\n",
       "30574  there is no evidence that this block has anyth...      0\n",
       "30575  thanks hey utkarshraj thanks for the kindness ...      0\n",
       "30576                             from previous revision      0\n",
       "\n",
       "[30577 rows x 2 columns]"
      ]
     },
     "execution_count": 74,
     "metadata": {},
     "output_type": "execute_result"
    }
   ],
   "source": [
    "training_set = pd.read_csv(\"./../../datasets/training_set.csv\")\n",
    "\n",
    "# Osservazione: il Training Set è stato già ripulito\n",
    "training_set"
   ]
  },
  {
   "cell_type": "code",
   "execution_count": 75,
   "metadata": {},
   "outputs": [],
   "source": [
    "y_train = training_set['toxic']"
   ]
  },
  {
   "cell_type": "markdown",
   "metadata": {},
   "source": [
    "# Addestramento del Sistema\n",
    "Il Sistema è ovviamente riaddestrabile a piacere. Si consiglia, tuttavia, dato il tempo necessario per riaddestrare il classificatore, di utilizzare il file pickle 'nn_classifier' per eseguire subito gli esperimenti."
   ]
  },
  {
   "cell_type": "code",
   "execution_count": 76,
   "metadata": {},
   "outputs": [
    {
     "name": "stdout",
     "output_type": "stream",
     "text": [
      "X_train.shape (30577, 768)\n"
     ]
    }
   ],
   "source": [
    "X_train = pd.read_csv(\"./../../datasets/X_train_bert.csv\")\n",
    "print(\"X_train.shape\", X_train.shape)"
   ]
  },
  {
   "cell_type": "code",
   "execution_count": 77,
   "metadata": {},
   "outputs": [],
   "source": [
    "model_filename = 'nn_classifier.pkl'\n",
    "model_lem_filename = 'nn_classifier_lem.pkl'\n",
    "model = None\n",
    "model_lem = None"
   ]
  },
  {
   "cell_type": "code",
   "execution_count": 78,
   "metadata": {},
   "outputs": [],
   "source": [
    "# define model\n",
    "model = Sequential()\n",
    "model.add(Dense(768, input_shape=(768,), activation='relu'))\n",
    "model.add(Dropout(0.5))  \n",
    "model.add(Dense(534, activation='relu'))\n",
    "model.add(Dropout(0.5))  \n",
    "model.add(Dense(318, activation='relu'))\n",
    "model.add(Dropout(0.5))  \n",
    "model.add(Dense(109, activation='relu'))\n",
    "model.add(Dropout(0.5))  \n",
    "model.add(Dense(54, activation='relu'))\n",
    "model.add(Dense(1, activation='sigmoid'))"
   ]
  },
  {
   "cell_type": "code",
   "execution_count": 79,
   "metadata": {},
   "outputs": [],
   "source": [
    "# compile the keras model\n",
    "model.compile(loss='binary_crossentropy', optimizer='adam', metrics=['accuracy'])"
   ]
  },
  {
   "cell_type": "code",
   "execution_count": 80,
   "metadata": {},
   "outputs": [
    {
     "name": "stdout",
     "output_type": "stream",
     "text": [
      "Training started...\n",
      "Epoch 1/50\n",
      "956/956 [==============================] - 4s 4ms/step - loss: 0.3069 - accuracy: 0.8710\n",
      "Epoch 2/50\n",
      "956/956 [==============================] - 4s 4ms/step - loss: 0.2633 - accuracy: 0.8926\n",
      "Epoch 3/50\n",
      "956/956 [==============================] - 4s 4ms/step - loss: 0.2553 - accuracy: 0.8981\n",
      "Epoch 4/50\n",
      "956/956 [==============================] - 4s 4ms/step - loss: 0.2470 - accuracy: 0.9014\n",
      "Epoch 5/50\n",
      "956/956 [==============================] - 4s 4ms/step - loss: 0.2431 - accuracy: 0.9020\n",
      "Epoch 6/50\n",
      "956/956 [==============================] - 4s 4ms/step - loss: 0.2341 - accuracy: 0.9060\n",
      "Epoch 7/50\n",
      "956/956 [==============================] - 4s 4ms/step - loss: 0.2335 - accuracy: 0.9065\n",
      "Epoch 8/50\n",
      "956/956 [==============================] - 4s 4ms/step - loss: 0.2289 - accuracy: 0.9092\n",
      "Epoch 9/50\n",
      "956/956 [==============================] - 4s 4ms/step - loss: 0.2227 - accuracy: 0.9114\n",
      "Epoch 10/50\n",
      "956/956 [==============================] - 4s 4ms/step - loss: 0.2191 - accuracy: 0.9113\n",
      "Epoch 11/50\n",
      "956/956 [==============================] - 4s 4ms/step - loss: 0.2149 - accuracy: 0.9138\n",
      "Epoch 12/50\n",
      "956/956 [==============================] - 4s 4ms/step - loss: 0.2115 - accuracy: 0.9149\n",
      "Epoch 13/50\n",
      "956/956 [==============================] - 4s 4ms/step - loss: 0.2078 - accuracy: 0.9144\n",
      "Epoch 14/50\n",
      "956/956 [==============================] - 4s 4ms/step - loss: 0.2012 - accuracy: 0.9196\n",
      "Epoch 15/50\n",
      "956/956 [==============================] - 4s 4ms/step - loss: 0.1995 - accuracy: 0.9205\n",
      "Epoch 16/50\n",
      "956/956 [==============================] - 4s 4ms/step - loss: 0.1950 - accuracy: 0.9225\n",
      "Epoch 17/50\n",
      "956/956 [==============================] - 4s 4ms/step - loss: 0.1914 - accuracy: 0.9219\n",
      "Epoch 18/50\n",
      "956/956 [==============================] - 4s 4ms/step - loss: 0.1890 - accuracy: 0.9231\n",
      "Epoch 19/50\n",
      "956/956 [==============================] - 4s 4ms/step - loss: 0.1846 - accuracy: 0.9265\n",
      "Epoch 20/50\n",
      "956/956 [==============================] - 4s 4ms/step - loss: 0.1828 - accuracy: 0.9265\n",
      "Epoch 21/50\n",
      "956/956 [==============================] - 4s 4ms/step - loss: 0.1772 - accuracy: 0.9280\n",
      "Epoch 22/50\n",
      "956/956 [==============================] - 4s 4ms/step - loss: 0.1740 - accuracy: 0.9298\n",
      "Epoch 23/50\n",
      "956/956 [==============================] - 4s 4ms/step - loss: 0.1715 - accuracy: 0.9311\n",
      "Epoch 24/50\n",
      "956/956 [==============================] - 4s 4ms/step - loss: 0.1686 - accuracy: 0.9327\n",
      "Epoch 25/50\n",
      "956/956 [==============================] - 4s 4ms/step - loss: 0.1639 - accuracy: 0.9342\n",
      "Epoch 26/50\n",
      "956/956 [==============================] - 4s 4ms/step - loss: 0.1644 - accuracy: 0.9350\n",
      "Epoch 27/50\n",
      "956/956 [==============================] - 4s 4ms/step - loss: 0.1591 - accuracy: 0.9374\n",
      "Epoch 28/50\n",
      "956/956 [==============================] - 4s 4ms/step - loss: 0.1534 - accuracy: 0.9373\n",
      "Epoch 29/50\n",
      "956/956 [==============================] - 4s 4ms/step - loss: 0.1549 - accuracy: 0.9385\n",
      "Epoch 30/50\n",
      "956/956 [==============================] - 4s 4ms/step - loss: 0.1497 - accuracy: 0.9387\n",
      "Epoch 31/50\n",
      "956/956 [==============================] - 4s 4ms/step - loss: 0.1477 - accuracy: 0.9399\n",
      "Epoch 32/50\n",
      "956/956 [==============================] - 4s 4ms/step - loss: 0.1456 - accuracy: 0.9422\n",
      "Epoch 33/50\n",
      "956/956 [==============================] - 4s 4ms/step - loss: 0.1426 - accuracy: 0.9417\n",
      "Epoch 34/50\n",
      "956/956 [==============================] - 4s 4ms/step - loss: 0.1416 - accuracy: 0.9439\n",
      "Epoch 35/50\n",
      "956/956 [==============================] - 4s 4ms/step - loss: 0.1369 - accuracy: 0.9438\n",
      "Epoch 36/50\n",
      "956/956 [==============================] - 4s 4ms/step - loss: 0.1365 - accuracy: 0.9457\n",
      "Epoch 37/50\n",
      "956/956 [==============================] - 4s 4ms/step - loss: 0.1345 - accuracy: 0.9467\n",
      "Epoch 38/50\n",
      "956/956 [==============================] - 4s 4ms/step - loss: 0.1309 - accuracy: 0.9462\n",
      "Epoch 39/50\n",
      "956/956 [==============================] - 4s 4ms/step - loss: 0.1267 - accuracy: 0.9494\n",
      "Epoch 40/50\n",
      "956/956 [==============================] - 4s 4ms/step - loss: 0.1298 - accuracy: 0.9497\n",
      "Epoch 41/50\n",
      "956/956 [==============================] - 4s 4ms/step - loss: 0.1274 - accuracy: 0.9491\n",
      "Epoch 42/50\n",
      "956/956 [==============================] - 4s 4ms/step - loss: 0.1273 - accuracy: 0.9492\n",
      "Epoch 43/50\n",
      "956/956 [==============================] - 4s 4ms/step - loss: 0.1235 - accuracy: 0.9506\n",
      "Epoch 44/50\n",
      "956/956 [==============================] - 4s 4ms/step - loss: 0.1202 - accuracy: 0.9541\n",
      "Epoch 45/50\n",
      "956/956 [==============================] - 4s 4ms/step - loss: 0.1205 - accuracy: 0.9516\n",
      "Epoch 46/50\n",
      "956/956 [==============================] - 4s 4ms/step - loss: 0.1182 - accuracy: 0.9515\n",
      "Epoch 47/50\n",
      "956/956 [==============================] - 4s 4ms/step - loss: 0.1201 - accuracy: 0.9521\n",
      "Epoch 48/50\n",
      "956/956 [==============================] - 4s 4ms/step - loss: 0.1149 - accuracy: 0.9530\n",
      "Epoch 49/50\n",
      "956/956 [==============================] - 4s 4ms/step - loss: 0.1179 - accuracy: 0.9543\n",
      "Epoch 50/50\n",
      "956/956 [==============================] - 4s 4ms/step - loss: 0.1132 - accuracy: 0.9565\n",
      "Training completed! Required time: 0:03:12.548906\n"
     ]
    }
   ],
   "source": [
    "print(\"Training started...\")\n",
    "start = datetime.now()\n",
    "model.fit(X_train, y_train, epochs=50, batch_size=32)\n",
    "end = datetime.now()\n",
    "print(\"Training completed! Required time: \" + str(end-start))\n",
    "\n",
    "with open(model_filename, 'wb') as f:\n",
    "    pickle.dump(model, f)"
   ]
  },
  {
   "cell_type": "code",
   "execution_count": 81,
   "metadata": {},
   "outputs": [],
   "source": [
    "with open(model_filename, 'rb') as f:\n",
    "    cl = pickle.load(f)"
   ]
  },
  {
   "cell_type": "markdown",
   "metadata": {},
   "source": [
    "# Testing del Sistema"
   ]
  },
  {
   "cell_type": "code",
   "execution_count": 82,
   "metadata": {},
   "outputs": [],
   "source": [
    "test_data = pd.read_csv(\"./../../datasets/test_set.csv\")\n",
    "test_data.dropna(inplace=True)\n",
    "test_set = test_data[test_data['toxic'] != -1]"
   ]
  },
  {
   "cell_type": "code",
   "execution_count": 83,
   "metadata": {},
   "outputs": [
    {
     "name": "stdout",
     "output_type": "stream",
     "text": [
      "y_test.shape: (63842,)\n"
     ]
    }
   ],
   "source": [
    "y_test = test_set['toxic']\n",
    "print(\"y_test.shape: \" + str(y_test.shape))"
   ]
  },
  {
   "cell_type": "code",
   "execution_count": 84,
   "metadata": {},
   "outputs": [
    {
     "name": "stdout",
     "output_type": "stream",
     "text": [
      "X_test.shape: (63842, 768)\n"
     ]
    }
   ],
   "source": [
    "X_test = pd.read_csv(\"./../../datasets/X_test_bert.csv\")\n",
    "print(\"X_test.shape:\", X_test.shape)"
   ]
  },
  {
   "cell_type": "code",
   "execution_count": 85,
   "metadata": {},
   "outputs": [
    {
     "name": "stdout",
     "output_type": "stream",
     "text": [
      "1996/1996 [==============================] - 2s 1ms/step\n",
      "[[1.0020149e-10]\n",
      " [9.9999964e-01]\n",
      " [7.7222008e-01]\n",
      " ...\n",
      " [9.9999946e-01]\n",
      " [9.9998432e-01]\n",
      " [5.0431079e-01]]\n",
      "Accuracy: 0.8348422668462767\n",
      "Precision: 0.355320392131403\n",
      "Recall: 0.899129291933629\n"
     ]
    }
   ],
   "source": [
    "y_pred = model.predict(X_test)\n",
    "print(y_pred)\n",
    "\n",
    "y_pred_binary = np.where(y_pred > 0.5, 1, 0)\n",
    "\n",
    "#Metriche: Accuracy,Precision,Recall\n",
    "print(\"Accuracy: \" + str(accuracy_score(y_test, y_pred_binary)))\n",
    "print(\"Precision: \" + str(precision_score(y_test, y_pred_binary)))\n",
    "print(\"Recall: \" + str(recall_score(y_test, y_pred_binary)))"
   ]
  }
 ],
 "metadata": {
  "kernelspec": {
   "display_name": "DL_CUDA",
   "language": "python",
   "name": "python3"
  },
  "language_info": {
   "codemirror_mode": {
    "name": "ipython",
    "version": 3
   },
   "file_extension": ".py",
   "mimetype": "text/x-python",
   "name": "python",
   "nbconvert_exporter": "python",
   "pygments_lexer": "ipython3",
   "version": "3.11.7"
  }
 },
 "nbformat": 4,
 "nbformat_minor": 2
}
