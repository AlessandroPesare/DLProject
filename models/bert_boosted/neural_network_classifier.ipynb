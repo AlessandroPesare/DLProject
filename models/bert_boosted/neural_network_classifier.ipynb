{
 "cells": [
  {
   "cell_type": "markdown",
   "metadata": {},
   "source": [
    "# NN Classifier (BERT-Boosted) x Toxic Content Detection\n",
    "Il presente Notebook mostra l'addestramento ed il testing di un Classificatore basato su una rete Fully connected per il task di Toxic Content Detection utilizzando BERT come features extractor.\n",
    "\n",
    "I dati sono stati processati come segue:\n",
    "1. Pulizia del testo (si veda 'dataset_preprocessing.py')\n",
    "2. Estrazione delle Features mediante BERT (si veda 'feature_extraction_bert_windows.ipynb'/'feature_extraction_bert_mac.ipynb')"
   ]
  },
  {
   "cell_type": "code",
   "execution_count": 12,
   "metadata": {},
   "outputs": [],
   "source": [
    "import pandas as pd\n",
    "import numpy as np\n",
    "import pickle\n",
    "import nltk\n",
    "import re\n",
    "import torch\n",
    "import matplotlib.pyplot as plt\n",
    "from keras.models import Sequential\n",
    "from keras.layers import Dense, Dropout\n",
    "from datetime import datetime\n",
    "from sklearn.metrics import confusion_matrix\n",
    "import seaborn as sns\n",
    "from sklearn.metrics import accuracy_score,precision_score,recall_score, confusion_matrix, ConfusionMatrixDisplay"
   ]
  },
  {
   "cell_type": "code",
   "execution_count": 13,
   "metadata": {},
   "outputs": [
    {
     "data": {
      "text/html": [
       "<div>\n",
       "<style scoped>\n",
       "    .dataframe tbody tr th:only-of-type {\n",
       "        vertical-align: middle;\n",
       "    }\n",
       "\n",
       "    .dataframe tbody tr th {\n",
       "        vertical-align: top;\n",
       "    }\n",
       "\n",
       "    .dataframe thead th {\n",
       "        text-align: right;\n",
       "    }\n",
       "</style>\n",
       "<table border=\"1\" class=\"dataframe\">\n",
       "  <thead>\n",
       "    <tr style=\"text-align: right;\">\n",
       "      <th></th>\n",
       "      <th>comment_text</th>\n",
       "      <th>toxic</th>\n",
       "    </tr>\n",
       "  </thead>\n",
       "  <tbody>\n",
       "    <tr>\n",
       "      <th>0</th>\n",
       "      <td>cocksucker before you piss around on my work</td>\n",
       "      <td>1</td>\n",
       "    </tr>\n",
       "    <tr>\n",
       "      <th>1</th>\n",
       "      <td>hey what is it talk what is it an exclusive gr...</td>\n",
       "      <td>1</td>\n",
       "    </tr>\n",
       "    <tr>\n",
       "      <th>2</th>\n",
       "      <td>bye dont look come or think of comming back to...</td>\n",
       "      <td>1</td>\n",
       "    </tr>\n",
       "    <tr>\n",
       "      <th>3</th>\n",
       "      <td>you are gay or antisemmitian archangel white t...</td>\n",
       "      <td>1</td>\n",
       "    </tr>\n",
       "    <tr>\n",
       "      <th>4</th>\n",
       "      <td>fuck your filthy mother in the ass dry</td>\n",
       "      <td>1</td>\n",
       "    </tr>\n",
       "    <tr>\n",
       "      <th>...</th>\n",
       "      <td>...</td>\n",
       "      <td>...</td>\n",
       "    </tr>\n",
       "    <tr>\n",
       "      <th>30572</th>\n",
       "      <td>chris i dont know who you are talking to but i...</td>\n",
       "      <td>0</td>\n",
       "    </tr>\n",
       "    <tr>\n",
       "      <th>30573</th>\n",
       "      <td>operation condor is also named a dirty war can...</td>\n",
       "      <td>0</td>\n",
       "    </tr>\n",
       "    <tr>\n",
       "      <th>30574</th>\n",
       "      <td>there is no evidence that this block has anyth...</td>\n",
       "      <td>0</td>\n",
       "    </tr>\n",
       "    <tr>\n",
       "      <th>30575</th>\n",
       "      <td>thanks hey utkarshraj thanks for the kindness ...</td>\n",
       "      <td>0</td>\n",
       "    </tr>\n",
       "    <tr>\n",
       "      <th>30576</th>\n",
       "      <td>from previous revision</td>\n",
       "      <td>0</td>\n",
       "    </tr>\n",
       "  </tbody>\n",
       "</table>\n",
       "<p>30577 rows × 2 columns</p>\n",
       "</div>"
      ],
      "text/plain": [
       "                                            comment_text  toxic\n",
       "0           cocksucker before you piss around on my work      1\n",
       "1      hey what is it talk what is it an exclusive gr...      1\n",
       "2      bye dont look come or think of comming back to...      1\n",
       "3      you are gay or antisemmitian archangel white t...      1\n",
       "4                 fuck your filthy mother in the ass dry      1\n",
       "...                                                  ...    ...\n",
       "30572  chris i dont know who you are talking to but i...      0\n",
       "30573  operation condor is also named a dirty war can...      0\n",
       "30574  there is no evidence that this block has anyth...      0\n",
       "30575  thanks hey utkarshraj thanks for the kindness ...      0\n",
       "30576                             from previous revision      0\n",
       "\n",
       "[30577 rows x 2 columns]"
      ]
     },
     "execution_count": 13,
     "metadata": {},
     "output_type": "execute_result"
    }
   ],
   "source": [
    "training_set = pd.read_csv(\"./../../datasets/training_set.csv\")\n",
    "\n",
    "# Osservazione: il Training Set è stato già ripulito\n",
    "training_set"
   ]
  },
  {
   "cell_type": "code",
   "execution_count": 14,
   "metadata": {},
   "outputs": [],
   "source": [
    "y_train = training_set['toxic']"
   ]
  },
  {
   "cell_type": "markdown",
   "metadata": {},
   "source": [
    "# Addestramento del Sistema\n",
    "Il Sistema è ovviamente riaddestrabile a piacere. Si consiglia, tuttavia, dato il tempo necessario per riaddestrare il classificatore, di utilizzare il file pickle 'nn_classifier' per eseguire subito gli esperimenti."
   ]
  },
  {
   "cell_type": "code",
   "execution_count": 15,
   "metadata": {},
   "outputs": [
    {
     "name": "stdout",
     "output_type": "stream",
     "text": [
      "X_train.shape (30577, 768)\n"
     ]
    }
   ],
   "source": [
    "X_train = pd.read_csv(\"./../../datasets/X_train_bert.csv\")\n",
    "print(\"X_train.shape\", X_train.shape)"
   ]
  },
  {
   "cell_type": "code",
   "execution_count": 16,
   "metadata": {},
   "outputs": [],
   "source": [
    "model_filename = 'nn_classifier.pkl'\n",
    "model = None"
   ]
  },
  {
   "cell_type": "markdown",
   "metadata": {},
   "source": [
    "Esegui la seguente sottosezione per riaddestrare il Classificatore da capo. Il modello ottenuto verrà persistito nel file 'nn_classifier.pkl'."
   ]
  },
  {
   "cell_type": "code",
   "execution_count": null,
   "metadata": {},
   "outputs": [],
   "source": [
    "X_train = X_train.toarray()"
   ]
  },
  {
   "cell_type": "code",
   "execution_count": 17,
   "metadata": {},
   "outputs": [],
   "source": [
    "# Building the CNN Model\n",
    "\n",
    "model = tf.keras.models.Sequential([\n",
    "tf.keras.layers.Reshape((39767, 1), input_shape=(39767,)),  \n",
    "tf.keras.layers.Conv1D(filters=45, kernel_size=11, strides=4,\n",
    "activation='relu',input_shape=(39767, 1)),\n",
    "tf.keras.layers.MaxPool1D(pool_size=3, strides=2,padding='same'),\n",
    "tf.keras.layers.Conv1D(filters=125, kernel_size=5, padding='same',\n",
    "activation='relu'),\n",
    "tf.keras.layers.MaxPool1D(pool_size=3, strides=2,padding='same'),\n",
    "tf.keras.layers.Conv1D(filters=150, kernel_size=3, padding='same',\n",
    "activation='relu'),\n",
    "tf.keras.layers.Conv1D(filters=125, kernel_size=3, padding='same',\n",
    "activation='relu'),\n",
    "tf.keras.layers.Conv1D(filters=60, kernel_size=1, padding='same',\n",
    "activation='relu'),\n",
    "tf.keras.layers.Dense(80, activation='relu'),\n",
    "tf.keras.layers.Dropout(0.5),\n",
    "tf.keras.layers.Dense(40, activation='relu'),\n",
    "tf.keras.layers.Dropout(0.5),\n",
    "tf.keras.layers.Dense(1,activation='sigmoid')\n",
    "])"
   ]
  },
  {
   "cell_type": "code",
   "execution_count": 18,
   "metadata": {},
   "outputs": [],
   "source": [
    "# compile the keras model\n",
    "model.build()\n",
    "model.compile(optimizer='adam', loss='binary_crossentropy', metrics=['accuracy'])\n",
    "model.summary()"
   ]
  },
  {
   "cell_type": "code",
   "execution_count": 19,
   "metadata": {},
   "outputs": [
    {
     "name": "stdout",
     "output_type": "stream",
     "text": [
      "Training started...\n",
      "Epoch 1/50\n",
      "956/956 [==============================] - 5s 5ms/step - loss: 0.3119 - accuracy: 0.8696\n",
      "Epoch 2/50\n",
      "956/956 [==============================] - 4s 5ms/step - loss: 0.2641 - accuracy: 0.8933\n",
      "Epoch 3/50\n",
      "956/956 [==============================] - 4s 4ms/step - loss: 0.2547 - accuracy: 0.8995\n",
      "Epoch 4/50\n",
      "956/956 [==============================] - 4s 5ms/step - loss: 0.2487 - accuracy: 0.9019\n",
      "Epoch 5/50\n",
      "956/956 [==============================] - 4s 5ms/step - loss: 0.2435 - accuracy: 0.9021\n",
      "Epoch 6/50\n",
      "956/956 [==============================] - 5s 5ms/step - loss: 0.2344 - accuracy: 0.9038\n",
      "Epoch 7/50\n",
      "956/956 [==============================] - 5s 5ms/step - loss: 0.2328 - accuracy: 0.9072\n",
      "Epoch 8/50\n",
      "956/956 [==============================] - 5s 5ms/step - loss: 0.2282 - accuracy: 0.9092\n",
      "Epoch 9/50\n",
      "956/956 [==============================] - 4s 5ms/step - loss: 0.2223 - accuracy: 0.9100\n",
      "Epoch 10/50\n",
      "956/956 [==============================] - 4s 5ms/step - loss: 0.2227 - accuracy: 0.9105\n",
      "Epoch 11/50\n",
      "956/956 [==============================] - 5s 5ms/step - loss: 0.2133 - accuracy: 0.9139\n",
      "Epoch 12/50\n",
      "956/956 [==============================] - 4s 5ms/step - loss: 0.2126 - accuracy: 0.9158\n",
      "Epoch 13/50\n",
      "956/956 [==============================] - 4s 5ms/step - loss: 0.2087 - accuracy: 0.9171\n",
      "Epoch 14/50\n",
      "956/956 [==============================] - 5s 5ms/step - loss: 0.2058 - accuracy: 0.9193\n",
      "Epoch 15/50\n",
      "956/956 [==============================] - 5s 5ms/step - loss: 0.1991 - accuracy: 0.9194\n",
      "Epoch 16/50\n",
      "956/956 [==============================] - 5s 5ms/step - loss: 0.1980 - accuracy: 0.9194\n",
      "Epoch 17/50\n",
      "956/956 [==============================] - 5s 5ms/step - loss: 0.1942 - accuracy: 0.9234\n",
      "Epoch 18/50\n",
      "956/956 [==============================] - 5s 5ms/step - loss: 0.1904 - accuracy: 0.9245\n",
      "Epoch 19/50\n",
      "956/956 [==============================] - 5s 5ms/step - loss: 0.1851 - accuracy: 0.9257\n",
      "Epoch 20/50\n",
      "956/956 [==============================] - 5s 5ms/step - loss: 0.1836 - accuracy: 0.9267\n",
      "Epoch 21/50\n",
      "956/956 [==============================] - 5s 5ms/step - loss: 0.1775 - accuracy: 0.9281\n",
      "Epoch 22/50\n",
      "956/956 [==============================] - 5s 5ms/step - loss: 0.1723 - accuracy: 0.9304\n",
      "Epoch 23/50\n",
      "956/956 [==============================] - 5s 5ms/step - loss: 0.1723 - accuracy: 0.9320\n",
      "Epoch 24/50\n",
      "956/956 [==============================] - 5s 5ms/step - loss: 0.1705 - accuracy: 0.9319\n",
      "Epoch 25/50\n",
      "956/956 [==============================] - 5s 5ms/step - loss: 0.1665 - accuracy: 0.9336\n",
      "Epoch 26/50\n",
      "956/956 [==============================] - 5s 5ms/step - loss: 0.1630 - accuracy: 0.9334\n",
      "Epoch 27/50\n",
      "956/956 [==============================] - 5s 5ms/step - loss: 0.1626 - accuracy: 0.9346\n",
      "Epoch 28/50\n",
      "956/956 [==============================] - 5s 5ms/step - loss: 0.1591 - accuracy: 0.9368\n",
      "Epoch 29/50\n",
      "956/956 [==============================] - 5s 5ms/step - loss: 0.1570 - accuracy: 0.9381\n",
      "Epoch 30/50\n",
      "956/956 [==============================] - 5s 5ms/step - loss: 0.1499 - accuracy: 0.9417\n",
      "Epoch 31/50\n",
      "956/956 [==============================] - 5s 5ms/step - loss: 0.1500 - accuracy: 0.9403\n",
      "Epoch 32/50\n",
      "956/956 [==============================] - 5s 5ms/step - loss: 0.1472 - accuracy: 0.9414\n",
      "Epoch 33/50\n",
      "956/956 [==============================] - 5s 5ms/step - loss: 0.1463 - accuracy: 0.9417\n",
      "Epoch 34/50\n",
      "956/956 [==============================] - 5s 5ms/step - loss: 0.1429 - accuracy: 0.9434\n",
      "Epoch 35/50\n",
      "956/956 [==============================] - 5s 5ms/step - loss: 0.1391 - accuracy: 0.9441\n",
      "Epoch 36/50\n",
      "956/956 [==============================] - 5s 5ms/step - loss: 0.1384 - accuracy: 0.9458\n",
      "Epoch 37/50\n",
      "956/956 [==============================] - 5s 5ms/step - loss: 0.1357 - accuracy: 0.9472\n",
      "Epoch 38/50\n",
      "956/956 [==============================] - 5s 5ms/step - loss: 0.1316 - accuracy: 0.9468\n",
      "Epoch 39/50\n",
      "956/956 [==============================] - 5s 5ms/step - loss: 0.1343 - accuracy: 0.9465\n",
      "Epoch 40/50\n",
      "956/956 [==============================] - 5s 5ms/step - loss: 0.1280 - accuracy: 0.9486\n",
      "Epoch 41/50\n",
      "956/956 [==============================] - 5s 5ms/step - loss: 0.1285 - accuracy: 0.9486\n",
      "Epoch 42/50\n",
      "956/956 [==============================] - 5s 5ms/step - loss: 0.1270 - accuracy: 0.9500\n",
      "Epoch 43/50\n",
      "956/956 [==============================] - 5s 5ms/step - loss: 0.1301 - accuracy: 0.9489\n",
      "Epoch 44/50\n",
      "956/956 [==============================] - 5s 5ms/step - loss: 0.1222 - accuracy: 0.9511\n",
      "Epoch 45/50\n",
      "956/956 [==============================] - 5s 5ms/step - loss: 0.1273 - accuracy: 0.9499\n",
      "Epoch 46/50\n",
      "956/956 [==============================] - 5s 5ms/step - loss: 0.1213 - accuracy: 0.9525\n",
      "Epoch 47/50\n",
      "956/956 [==============================] - 5s 5ms/step - loss: 0.1202 - accuracy: 0.9530\n",
      "Epoch 48/50\n",
      "956/956 [==============================] - 5s 5ms/step - loss: 0.1171 - accuracy: 0.9551\n",
      "Epoch 49/50\n",
      "956/956 [==============================] - 5s 6ms/step - loss: 0.1139 - accuracy: 0.9547\n",
      "Epoch 50/50\n",
      "956/956 [==============================] - 5s 5ms/step - loss: 0.1178 - accuracy: 0.9539\n",
      "Training completed! Required time: 0:03:57.415406\n"
     ]
    }
   ],
   "source": [
    "print(\"Training started...\")\n",
    "start = datetime.now()\n",
    "model.fit(X_train, y_train, epochs=10, batch_size=32)\n",
    "end = datetime.now()\n",
    "print(\"Training completed! Required time: \" + str(end-start))"
   ]
  },
  {
   "cell_type": "code",
   "execution_count": 20,
   "metadata": {},
   "outputs": [],
   "source": [
    "with open(model_filename, 'wb') as f:\n",
    "    pickle.dump(model, f)"
   ]
  },
  {
   "cell_type": "code",
   "execution_count": 21,
   "metadata": {},
   "outputs": [],
   "source": [
    "with open(model_filename, 'rb') as f:\n",
    "    model = pickle.load(f)"
   ]
  },
  {
   "cell_type": "markdown",
   "metadata": {},
   "source": [
    "# Testing del Sistema"
   ]
  },
  {
   "cell_type": "code",
   "execution_count": 22,
   "metadata": {},
   "outputs": [],
   "source": [
    "test_data = pd.read_csv(\"./../../datasets/test_set.csv\")\n",
    "test_data.dropna(inplace=True)\n",
    "test_set = test_data[test_data['toxic'] != -1]"
   ]
  },
  {
   "cell_type": "code",
   "execution_count": 23,
   "metadata": {},
   "outputs": [
    {
     "name": "stdout",
     "output_type": "stream",
     "text": [
      "y_test.shape: (63842,)\n"
     ]
    }
   ],
   "source": [
    "y_test = test_set['toxic']\n",
    "print(\"y_test.shape: \" + str(y_test.shape))"
   ]
  },
  {
   "cell_type": "code",
   "execution_count": 24,
   "metadata": {},
   "outputs": [
    {
     "name": "stdout",
     "output_type": "stream",
     "text": [
      "X_test.shape: (63842, 768)\n"
     ]
    }
   ],
   "source": [
    "X_test = pd.read_csv(\"./../../datasets/X_test_bert.csv\")\n",
    "print(\"X_test.shape:\", X_test.shape)"
   ]
  },
  {
   "cell_type": "code",
   "execution_count": 25,
   "metadata": {},
   "outputs": [
    {
     "name": "stdout",
     "output_type": "stream",
     "text": [
      "1996/1996 [==============================] - 4s 2ms/step\n",
      "[[7.0589015e-13]\n",
      " [1.0000000e+00]\n",
      " [8.0187863e-01]\n",
      " ...\n",
      " [9.9999994e-01]\n",
      " [1.0000000e+00]\n",
      " [1.0899552e-01]]\n",
      "Accuracy: 0.8294539644747971\n",
      "Precision: 0.348844531200806\n",
      "Recall: 0.9101363561688846\n"
     ]
    }
   ],
   "source": [
    "y_pred = model.predict(X_test)\n",
    "print(y_pred)\n",
    "\n",
    "y_pred_binary = np.where(y_pred > 0.5, 1, 0)\n",
    "\n",
    "#Metriche: Accuracy,Precision,Recall\n",
    "print(\"Accuracy: \" + str(accuracy_score(y_test, y_pred_binary)))\n",
    "print(\"Precision: \" + str(precision_score(y_test, y_pred_binary)))\n",
    "print(\"Recall: \" + str(recall_score(y_test, y_pred_binary)))"
   ]
  },
  {
   "cell_type": "code",
   "execution_count": 29,
   "metadata": {},
   "outputs": [
    {
     "data": {
      "image/png": "[encoded data removed]",
      "text/plain": [
       "<Figure size 600x500 with 2 Axes>"
      ]
     },
     "metadata": {},
     "output_type": "display_data"
    }
   ],
   "source": [
    "conf_matrix = confusion_matrix(y_test, y_pred_binary)\n",
    "\n",
    "# Definisci le etichette delle classi\n",
    "classes = ['Classe Negativa', 'Classe Positiva']\n",
    "\n",
    "# Plotta la matrice di confusione\n",
    "plt.figure(figsize=(6, 5))\n",
    "sns.heatmap(conf_matrix, annot=True, fmt=\"d\", cmap=\"Blues\", xticklabels=classes, yticklabels=classes)\n",
    "plt.xlabel('Predicted')\n",
    "plt.ylabel('True')\n",
    "plt.title('Matrice di Confusione')\n",
    "plt.show()"
   ]
  }
 ],
 "metadata": {
  "kernelspec": {
   "display_name": "DL_CUDA",
   "language": "python",
   "name": "python3"
  },
  "language_info": {
   "codemirror_mode": {
    "name": "ipython",
    "version": 3
   },
   "file_extension": ".py",
   "mimetype": "text/x-python",
   "name": "python",
   "nbconvert_exporter": "python",
   "pygments_lexer": "ipython3",
   "version": "3.11.7"
  }
 },
 "nbformat": 4,
 "nbformat_minor": 2
}
