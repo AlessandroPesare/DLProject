{
 "cells": [
  {
   "cell_type": "markdown",
   "metadata": {},
   "source": [
    "# Neural Network Classifier (BERT-Boosted) x Toxic Content Detection\n",
    "Il presente Notebook mostra l'addestramento ed il testing di un Classificatore basato su Neural network per il task di Toxic Content Detection.\n",
    "\n",
    "I dati sono stati processati come segue:\n",
    "1. Pulizia del testo (si veda 'dataset_preprocessing.py')\n",
    "2. Estrazione delle Features mediante BERT (si veda 'feature_extraction_bert_windows.ipynb'/'feature_extraction_bert_mac.ipynb')"
   ]
  },
  {
   "cell_type": "code",
   "execution_count": 1,
   "metadata": {},
   "outputs": [
    {
     "name": "stderr",
     "output_type": "stream",
     "text": [
      "C:\\Users\\Riccardo De Cesaris\\AppData\\Local\\Temp\\ipykernel_35380\\3716045374.py:1: DeprecationWarning: \n",
      "Pyarrow will become a required dependency of pandas in the next major release of pandas (pandas 3.0),\n",
      "(to allow more performant data types, such as the Arrow string type, and better interoperability with other libraries)\n",
      "but was not found to be installed on your system.\n",
      "If this would cause problems for you,\n",
      "please provide us feedback at https://github.com/pandas-dev/pandas/issues/54466\n",
      "        \n",
      "  import pandas as pd\n",
      "e:\\anaconda3\\envs\\DL_GPU_Full\\lib\\site-packages\\tqdm\\auto.py:21: TqdmWarning: IProgress not found. Please update jupyter and ipywidgets. See https://ipywidgets.readthedocs.io/en/stable/user_install.html\n",
      "  from .autonotebook import tqdm as notebook_tqdm\n"
     ]
    }
   ],
   "source": [
    "import pandas as pd\n",
    "import numpy as np\n",
    "import pickle\n",
    "import nltk\n",
    "import re\n",
    "import torch\n",
    "import matplotlib.pyplot as plt\n",
    "from transformers import DistilBertTokenizer, DistilBertModel\n",
    "from nltk.tokenize import word_tokenize\n",
    "from nltk.corpus import wordnet\n",
    "from nltk.stem import WordNetLemmatizer\n",
    "from sklearn.feature_extraction.text import TfidfVectorizer\n",
    "import tensorflow as tf\n",
    "from tensorflow.keras.models import Sequential\n",
    "from tensorflow.keras.models import Model\n",
    "from tensorflow.keras.layers import Input, Conv1D, MaxPooling1D, Flatten, Dense,Reshape\n",
    "from tensorflow.keras.optimizers.legacy import Adam as Adam_legacy\n",
    "from keras.optimizers import Adam\n",
    "from datetime import datetime\n",
    "import matplotlib.pyplot as plt\n",
    "from sklearn.metrics import accuracy_score, precision_score, recall_score, f1_score, confusion_matrix, ConfusionMatrixDisplay, roc_auc_score"
   ]
  },
  {
   "cell_type": "markdown",
   "metadata": {},
   "source": [
    "All'interno del Notebook saranno addestrate due Reti Neurali, una sul Dataset \"non-Lemmatizzato\" e l'altra sul Dataset \"Lemmatizzato\"."
   ]
  },
  {
   "cell_type": "code",
   "execution_count": 2,
   "metadata": {},
   "outputs": [
    {
     "name": "stdout",
     "output_type": "stream",
     "text": [
      "GPU disponibile, TensorFlow sta utilizzando la GPU.\n"
     ]
    }
   ],
   "source": [
    "# Verifica il dispositivo attualmente utilizzato da TensorFlow\n",
    "device_name = tf.test.gpu_device_name()\n",
    "\n",
    "if device_name == '/device:GPU:0':\n",
    "    print('GPU disponibile, TensorFlow sta utilizzando la GPU.')\n",
    "else:\n",
    "    print('GPU non disponibile, TensorFlow sta utilizzando la CPU.')"
   ]
  },
  {
   "cell_type": "markdown",
   "metadata": {},
   "source": [
    "## Funzioni di Supporto"
   ]
  },
  {
   "cell_type": "code",
   "execution_count": 3,
   "metadata": {},
   "outputs": [],
   "source": [
    "# Carica il tokenizer e il modello preaddestrato di BERT\n",
    "tokenizer = DistilBertTokenizer.from_pretrained('distilbert-base-uncased')\n",
    "model = DistilBertModel.from_pretrained('distilbert-base-uncased')"
   ]
  },
  {
   "cell_type": "code",
   "execution_count": 4,
   "metadata": {},
   "outputs": [],
   "source": [
    "# Definizione di una funzione per estrarre le caratteristiche di un testo utilizzando BERT\n",
    "def extract_features(strings):\n",
    "    # return_tensors ritorna il tensore per la versione pytorch\n",
    "    # padding = true fa in modo che frasi di lunghezza diversa vengono portate alla lunghezza massima\n",
    "    inputs = tokenizer(strings, return_tensors=\"pt\", padding=True, truncation=True)\n",
    "    with torch.no_grad():\n",
    "        outputs = model(**inputs)\n",
    "    last_hidden_states = outputs.last_hidden_state\n",
    "    #rappresentazione media e unidimensionale delle caratteristiche estratte\n",
    "    features = torch.mean(last_hidden_states, dim=1).squeeze()\n",
    "    features = features.numpy()\n",
    "    return pd.DataFrame(features)"
   ]
  },
  {
   "cell_type": "markdown",
   "metadata": {},
   "source": [
    "# Neural Network"
   ]
  },
  {
   "cell_type": "markdown",
   "metadata": {},
   "source": [
    "## Addestramento"
   ]
  },
  {
   "cell_type": "code",
   "execution_count": 5,
   "metadata": {},
   "outputs": [
    {
     "name": "stdout",
     "output_type": "stream",
     "text": [
      "Numero di Frasi nel Training Set: 15282\n",
      "Numero Frasi 'toxic' nel Training Set: 3058\n",
      "Numero Frasi 'not-toxic' nel Training Set: 12224\n"
     ]
    }
   ],
   "source": [
    "training_set = pd.read_csv(\"./../../datasets/training_set.csv\")\n",
    "print(\"Numero di Frasi nel Training Set:\", len(training_set))\n",
    "print(\"Numero Frasi 'toxic' nel Training Set:\", len(training_set[training_set['toxic'] == 1]))\n",
    "print(\"Numero Frasi 'not-toxic' nel Training Set:\", len(training_set[training_set['toxic'] == 0]))"
   ]
  },
  {
   "cell_type": "code",
   "execution_count": 6,
   "metadata": {},
   "outputs": [],
   "source": [
    "y_train = training_set['toxic']"
   ]
  },
  {
   "cell_type": "code",
   "execution_count": 7,
   "metadata": {},
   "outputs": [
    {
     "name": "stdout",
     "output_type": "stream",
     "text": [
      "X_train.shape (15282, 768)\n"
     ]
    }
   ],
   "source": [
    "X_train = pd.read_csv(\"./../../datasets/X_train_bert.csv\")\n",
    "print(\"X_train.shape\", X_train.shape)"
   ]
  },
  {
   "cell_type": "code",
   "execution_count": 8,
   "metadata": {},
   "outputs": [
    {
     "name": "stdout",
     "output_type": "stream",
     "text": [
      "Model: \"model\"\n",
      "_________________________________________________________________\n",
      " Layer (type)                Output Shape              Param #   \n",
      "=================================================================\n",
      " review (InputLayer)         [(None, 768)]             0         \n",
      "                                                                 \n",
      " reshape (Reshape)           (None, 768, 1)            0         \n",
      "                                                                 \n",
      " conv1d (Conv1D)             (None, 764, 32)           192       \n",
      "                                                                 \n",
      " max_pooling1d (MaxPooling1D  (None, 382, 32)          0         \n",
      " )                                                               \n",
      "                                                                 \n",
      " conv1d_1 (Conv1D)           (None, 380, 32)           3104      \n",
      "                                                                 \n",
      " max_pooling1d_1 (MaxPooling  (None, 190, 32)          0         \n",
      " 1D)                                                             \n",
      "                                                                 \n",
      " conv1d_2 (Conv1D)           (None, 186, 64)           10304     \n",
      "                                                                 \n",
      " flatten (Flatten)           (None, 11904)             0         \n",
      "                                                                 \n",
      " main_output (Dense)         (None, 1)                 11905     \n",
      "                                                                 \n",
      "=================================================================\n",
      "Total params: 25,505\n",
      "Trainable params: 25,505\n",
      "Non-trainable params: 0\n",
      "_________________________________________________________________\n",
      "None\n"
     ]
    },
    {
     "name": "stderr",
     "output_type": "stream",
     "text": [
      "e:\\anaconda3\\envs\\DL_GPU_Full\\lib\\site-packages\\keras\\optimizers\\optimizer_v2\\adam.py:114: UserWarning: The `lr` argument is deprecated, use `learning_rate` instead.\n",
      "  super().__init__(name, **kwargs)\n"
     ]
    }
   ],
   "source": [
    "#CNN model Functional API\n",
    "review = Input(shape=(X_train.shape[1],), dtype='float', name='review')\n",
    "# Aggiunta di una dimensione per rappresentare il canale (l'input è bidimensionale e ci aspetta invece la dimensione associata al canale)\n",
    "review_reshaped = Reshape((X_train.shape[1], 1))(review)\n",
    "    \n",
    "# Layer convoluzionali\n",
    "conv_1 = Conv1D(filters=32, kernel_size=5, activation='relu')(review_reshaped)\n",
    "max_pool_1 = MaxPooling1D(pool_size=2)(conv_1)\n",
    "conv_2 = Conv1D(filters=32, kernel_size=3, activation='relu')(max_pool_1)\n",
    "max_pool_2 = MaxPooling1D(pool_size=2)(conv_2)\n",
    "conv_3 = Conv1D(filters=64, kernel_size=5, activation='relu')(max_pool_2)\n",
    "\n",
    "# Appiattimento e strato fully-connected\n",
    "flatten = Flatten()(conv_3)\n",
    "main_output = Dense(1, activation='sigmoid', name='main_output')(flatten)\n",
    "\n",
    "# Costruzione del modello\n",
    "model = Model(inputs=[review], outputs=[main_output])\n",
    "    \n",
    "# Compilazione del modello\n",
    "optimizer = Adam(lr=1e-2)\n",
    "model.compile(optimizer=optimizer, loss='binary_crossentropy', metrics=['accuracy'])\n",
    "print(model.summary())"
   ]
  },
  {
   "cell_type": "code",
   "execution_count": 9,
   "metadata": {},
   "outputs": [],
   "source": [
    "#CNN model Sequential API\n",
    "model = tf.keras.models.Sequential(\n",
    "    [\n",
    "        tf.keras.layers.Input(shape=(X_train.shape[1],), dtype='float'),\n",
    "        tf.keras.layers.Reshape((X_train.shape[1],1)),\n",
    "        tf.keras.layers.Conv1D(filters=32, kernel_size=5, activation='relu'),\n",
    "        tf.keras.layers.MaxPooling1D(pool_size=2),\n",
    "        tf.keras.layers.Conv1D(filters=32, kernel_size=3, activation='relu'),\n",
    "        tf.keras.layers.MaxPooling1D(pool_size=2),\n",
    "        tf.keras.layers.Conv1D(filters=64, kernel_size=5, activation='relu'),\n",
    "        tf.keras.layers.Flatten(),\n",
    "        tf.keras.layers.Dense(1,activation='sigmoid')\n",
    "    ]\n",
    ")"
   ]
  },
  {
   "cell_type": "code",
   "execution_count": 10,
   "metadata": {},
   "outputs": [
    {
     "name": "stdout",
     "output_type": "stream",
     "text": [
      "Model: \"sequential\"\n",
      "_________________________________________________________________\n",
      " Layer (type)                Output Shape              Param #   \n",
      "=================================================================\n",
      " reshape_1 (Reshape)         (None, 768, 1)            0         \n",
      "                                                                 \n",
      " conv1d_3 (Conv1D)           (None, 764, 32)           192       \n",
      "                                                                 \n",
      " max_pooling1d_2 (MaxPooling  (None, 382, 32)          0         \n",
      " 1D)                                                             \n",
      "                                                                 \n",
      " conv1d_4 (Conv1D)           (None, 380, 32)           3104      \n",
      "                                                                 \n",
      " max_pooling1d_3 (MaxPooling  (None, 190, 32)          0         \n",
      " 1D)                                                             \n",
      "                                                                 \n",
      " conv1d_5 (Conv1D)           (None, 186, 64)           10304     \n",
      "                                                                 \n",
      " flatten_1 (Flatten)         (None, 11904)             0         \n",
      "                                                                 \n",
      " dense (Dense)               (None, 1)                 11905     \n",
      "                                                                 \n",
      "=================================================================\n",
      "Total params: 25,505\n",
      "Trainable params: 25,505\n",
      "Non-trainable params: 0\n",
      "_________________________________________________________________\n"
     ]
    }
   ],
   "source": [
    "model.summary()\n",
    "model.compile(optimizer='adam', loss='binary_crossentropy', metrics=['accuracy'])"
   ]
  },
  {
   "cell_type": "code",
   "execution_count": null,
   "metadata": {},
   "outputs": [],
   "source": [
    "X_train = X_train.to_numpy()\n",
    "\n",
    "# Addestramento sul Dataset non-lemmatizzato\n",
    "print(\"Training della Rete Neurale sul Dataset 'non-Lemmatizzato'...\")\n",
    "start = datetime.now()\n",
    "model.fit(X_train, y_train,epochs=10, batch_size=32)\n",
    "end = datetime.now()\n",
    "print(\"Training completato! Tempo impiegato: \" + str(end-start))\n",
    "\n",
    "model.save(\"neural_classifier_small.h5\")"
   ]
  },
  {
   "cell_type": "code",
   "execution_count": 11,
   "metadata": {},
   "outputs": [],
   "source": [
    "model = tf.keras.models.load_model(\"neural_classifier_small.h5\")"
   ]
  },
  {
   "cell_type": "markdown",
   "metadata": {},
   "source": [
    "## Testing"
   ]
  },
  {
   "cell_type": "code",
   "execution_count": 12,
   "metadata": {},
   "outputs": [
    {
     "name": "stdout",
     "output_type": "stream",
     "text": [
      "Numero di Frasi nel Test Set: 63842\n",
      "Numero Frasi 'toxic' nel Test Set: 6087\n",
      "Numero Frasi 'not-toxic' nel Test Set: 57755\n"
     ]
    }
   ],
   "source": [
    "test_data = pd.read_csv(\"./../../datasets/test_set.csv\")\n",
    "test_data.dropna(inplace=True)\n",
    "\n",
    "test_set = test_data[test_data['toxic'] != -1]\n",
    "exp_set = test_data[test_data['toxic'] == -1]\n",
    "\n",
    "print(\"Numero di Frasi nel Test Set:\", len(test_set))\n",
    "print(\"Numero Frasi 'toxic' nel Test Set:\", len(test_set[test_set['toxic'] == 1]))\n",
    "print(\"Numero Frasi 'not-toxic' nel Test Set:\", len(test_set[test_set['toxic'] == 0]))"
   ]
  },
  {
   "cell_type": "code",
   "execution_count": 13,
   "metadata": {},
   "outputs": [
    {
     "name": "stdout",
     "output_type": "stream",
     "text": [
      "X_test.shape: (63842, 768)\n"
     ]
    }
   ],
   "source": [
    "X_test = pd.read_csv(\"./../../datasets/X_test_bert.csv\")\n",
    "print(\"X_test.shape:\", X_test.shape)\n",
    "y_test = test_set['toxic']"
   ]
  },
  {
   "cell_type": "code",
   "execution_count": 14,
   "metadata": {},
   "outputs": [
    {
     "name": "stdout",
     "output_type": "stream",
     "text": [
      "79/79 [==============================] - 2s 2ms/step\n",
      "79/79 [==============================] - 0s 1ms/step\n",
      "79/79 [==============================] - 0s 1ms/step\n",
      "79/79 [==============================] - 0s 2ms/step\n",
      "79/79 [==============================] - 0s 1ms/step\n",
      "79/79 [==============================] - 0s 2ms/step\n",
      "79/79 [==============================] - 0s 2ms/step\n",
      "79/79 [==============================] - 0s 1ms/step\n",
      "79/79 [==============================] - 0s 2ms/step\n",
      "79/79 [==============================] - 0s 2ms/step\n",
      "79/79 [==============================] - 0s 2ms/step\n",
      "79/79 [==============================] - 0s 2ms/step\n",
      "79/79 [==============================] - 0s 2ms/step\n",
      "79/79 [==============================] - 0s 2ms/step\n",
      "79/79 [==============================] - 0s 2ms/step\n",
      "79/79 [==============================] - 0s 2ms/step\n",
      "79/79 [==============================] - 0s 2ms/step\n",
      "79/79 [==============================] - 0s 2ms/step\n",
      "79/79 [==============================] - 0s 2ms/step\n",
      "79/79 [==============================] - 0s 2ms/step\n",
      "79/79 [==============================] - 0s 2ms/step\n",
      "79/79 [==============================] - 0s 2ms/step\n",
      "79/79 [==============================] - 0s 2ms/step\n",
      "79/79 [==============================] - 0s 2ms/step\n",
      "79/79 [==============================] - 0s 2ms/step\n",
      "42/42 [==============================] - 0s 9ms/step\n"
     ]
    }
   ],
   "source": [
    "i = 0\n",
    "predictions = list()\n",
    "while i < X_test.shape[0]:\n",
    "    to_submit = X_test[i:i+2500]\n",
    "    to_test = to_submit.to_numpy()\n",
    "    y_pred = model.predict(to_test)\n",
    "    predictions.append(y_pred)\n",
    "    i += 2500\n",
    "\n",
    "    del to_submit\n",
    "    del to_test\n",
    "    del y_pred"
   ]
  },
  {
   "cell_type": "code",
   "execution_count": 15,
   "metadata": {},
   "outputs": [],
   "source": [
    "y_pred = np.concatenate(predictions)\n",
    "y_pred.shape\n",
    "y_pred_binary = np.where(y_pred > 0.5, 1, 0)"
   ]
  },
  {
   "cell_type": "code",
   "execution_count": 16,
   "metadata": {},
   "outputs": [
    {
     "name": "stdout",
     "output_type": "stream",
     "text": [
      "Accuracy: 0.882130885623884\n",
      "Precision: 0.4351434241385531\n",
      "Recall: 0.7925086249383932\n",
      "F-Measure: 0.5618121469749024\n"
     ]
    }
   ],
   "source": [
    "#Metriche: Accuracy,Precision,Recall\n",
    "print(\"Accuracy: \" + str(accuracy_score(y_test, y_pred_binary)))\n",
    "print(\"Precision: \" + str(precision_score(y_test, y_pred_binary)))\n",
    "print(\"Recall: \" + str(recall_score(y_test, y_pred_binary)))\n",
    "print(\"F-Measure: \" + str(f1_score(y_test, y_pred_binary)))"
   ]
  },
  {
   "cell_type": "code",
   "execution_count": 17,
   "metadata": {},
   "outputs": [
    {
     "data": {
      "image/png": "[encoded data removed]",
      "text/plain": [
       "<Figure size 640x480 with 2 Axes>"
      ]
     },
     "metadata": {},
     "output_type": "display_data"
    }
   ],
   "source": [
    "cm = confusion_matrix(y_test, y_pred_binary, labels=[0,1])\n",
    "disp = ConfusionMatrixDisplay(confusion_matrix=cm, display_labels=[0,1])\n",
    "disp.plot()\n",
    "plt.show()"
   ]
  },
  {
   "cell_type": "code",
   "execution_count": 18,
   "metadata": {},
   "outputs": [
    {
     "name": "stdout",
     "output_type": "stream",
     "text": [
      "ROC-AUC Score: 0.9300788481882982\n"
     ]
    }
   ],
   "source": [
    "print(\"ROC-AUC Score:\", roc_auc_score(y_test, y_pred))"
   ]
  }
 ],
 "metadata": {
  "kernelspec": {
   "display_name": "DL_CUDA",
   "language": "python",
   "name": "python3"
  },
  "language_info": {
   "codemirror_mode": {
    "name": "ipython",
    "version": 3
   },
   "file_extension": ".py",
   "mimetype": "text/x-python",
   "name": "python",
   "nbconvert_exporter": "python",
   "pygments_lexer": "ipython3",
   "version": "3.10.13"
  }
 },
 "nbformat": 4,
 "nbformat_minor": 2
}
